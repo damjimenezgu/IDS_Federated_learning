{
  "nbformat": 4,
  "nbformat_minor": 0,
  "metadata": {
    "colab": {
      "provenance": [],
      "machine_shape": "hm"
    },
    "kernelspec": {
      "name": "python3",
      "display_name": "Python 3"
    },
    "language_info": {
      "name": "python"
    },
    "accelerator": "TPU",
    "gpuClass": "premium"
  },
  "cells": [
    {
      "cell_type": "code",
      "execution_count": 83,
      "metadata": {
        "id": "yvy2ux9waG7H"
      },
      "outputs": [],
      "source": [
        "pip install -q flwr[simulation]\n"
      ]
    },
    {
      "cell_type": "code",
      "source": [
        "import os\n",
        "import pandas as pd\n",
        "import numpy as np\n",
        "import seaborn as sns\n",
        "import flwr as fl\n",
        "import logging\n",
        "import math\n",
        "import warnings\n",
        "\n",
        "# os.environ[\"TF_CPP_MIN_LOG_LEVEL\"] = \"3\"\n",
        "\n",
        "logging.basicConfig(format=\"%(asctime)s %(levelname)s %(message)s\", datefmt=\"%H:%M:%S\", level=logging.INFO)\n",
        "\n",
        "#Sklearn\n",
        "from sklearn.model_selection import train_test_split\n",
        "from sklearn.preprocessing import MinMaxScaler\n",
        "from sklearn.linear_model import LogisticRegression\n",
        "from sklearn.model_selection import train_test_split\n",
        "from sklearn.model_selection import cross_val_score\n",
        "from sklearn.metrics import r2_score, explained_variance_score, confusion_matrix, accuracy_score, classification_report, log_loss\n",
        "from sklearn.utils import shuffle\n",
        "from sklearn.metrics import accuracy_score\n",
        "from sklearn.metrics import mean_squared_error\n",
        "from sklearn import preprocessing\n",
        "from sklearn.preprocessing import StandardScaler\n",
        "from sklearn.metrics import precision_recall_fscore_support\n",
        "\n",
        "#Tensorflow para redes neuronales\n",
        "# import tensorflow as tf\n",
        "# from tensorflow.keras.models import Sequential\n",
        "# from tensorflow.keras.layers import Activation\n",
        "# from tensorflow.keras.layers import Dense\n",
        "# from tensorflow.keras.optimizers import SGD\n",
        "# from tensorflow.keras import backend as K\n",
        "\n",
        "from typing import List, Tuple, Dict, Optional\n",
        "from flwr.common import Metrics\n",
        "import time\n",
        "\n",
        "# Cambiamos el display para que nos muestre todas las columnas\n",
        "pd.set_option(\"display.max_rows\", None)\n",
        "pd.set_option('display.max_columns', None)\n",
        "import matplotlib.pyplot as plt\n",
        "%matplotlib inline"
      ],
      "metadata": {
        "id": "8IFaUdCOaTSm"
      },
      "execution_count": 84,
      "outputs": []
    },
    {
      "cell_type": "code",
      "source": [
        "from google.colab import drive\n",
        "drive.mount(\"/content/drive\")"
      ],
      "metadata": {
        "colab": {
          "base_uri": "https://localhost:8080/"
        },
        "id": "1PulZxpGeN2I",
        "outputId": "1fff750e-cd55-415c-e8e9-b4524387f53a"
      },
      "execution_count": 85,
      "outputs": [
        {
          "output_type": "stream",
          "name": "stdout",
          "text": [
            "Drive already mounted at /content/drive; to attempt to forcibly remount, call drive.mount(\"/content/drive\", force_remount=True).\n"
          ]
        }
      ]
    },
    {
      "cell_type": "markdown",
      "source": [
        "# Cargamos los datasets sampleados"
      ],
      "metadata": {
        "id": "WyVi5FUldI8f"
      }
    },
    {
      "cell_type": "code",
      "source": [
        "DIRECTORIO = \"/content/drive/My Drive/UNIVERSIDAD/TFG/Flower/datasets/\"\n"
      ],
      "metadata": {
        "id": "RHfA7PHCaXUi"
      },
      "execution_count": 86,
      "outputs": []
    },
    {
      "cell_type": "code",
      "source": [
        "df_cic_sampled = pd.read_csv(os.path.join(DIRECTORIO, \"cicids_sampled.csv\"), skipinitialspace=True, error_bad_lines=False )"
      ],
      "metadata": {
        "colab": {
          "base_uri": "https://localhost:8080/"
        },
        "id": "_sjpPqFwc5US",
        "outputId": "1842c141-c679-4460-f6b9-bf69ccba88bd"
      },
      "execution_count": 96,
      "outputs": [
        {
          "output_type": "stream",
          "name": "stderr",
          "text": [
            "<ipython-input-96-dd721b120a09>:1: FutureWarning: The error_bad_lines argument has been deprecated and will be removed in a future version. Use on_bad_lines in the future.\n",
            "\n",
            "\n",
            "  df_cic_sampled = pd.read_csv(os.path.join(DIRECTORIO, \"cicids_sampled.csv\"), skipinitialspace=True, error_bad_lines=False )\n"
          ]
        }
      ]
    },
    {
      "cell_type": "code",
      "source": [
        "df_nb15_sampled = pd.read_csv(os.path.join(DIRECTORIO, \"nb15_sampled.csv\"), skipinitialspace=True, error_bad_lines=False )"
      ],
      "metadata": {
        "colab": {
          "base_uri": "https://localhost:8080/"
        },
        "id": "KNRsUi9YdN-m",
        "outputId": "dd48cde3-3ee1-4f71-8b37-d95a127cc982"
      },
      "execution_count": 97,
      "outputs": [
        {
          "output_type": "stream",
          "name": "stderr",
          "text": [
            "<ipython-input-97-407920532375>:1: FutureWarning: The error_bad_lines argument has been deprecated and will be removed in a future version. Use on_bad_lines in the future.\n",
            "\n",
            "\n",
            "  df_nb15_sampled = pd.read_csv(os.path.join(DIRECTORIO, \"nb15_sampled.csv\"), skipinitialspace=True, error_bad_lines=False )\n"
          ]
        }
      ]
    },
    {
      "cell_type": "code",
      "source": [
        "df_toniot_sampled = pd.read_csv(os.path.join(DIRECTORIO, \"toniot_sampled.csv\"), skipinitialspace=True, error_bad_lines=False )"
      ],
      "metadata": {
        "colab": {
          "base_uri": "https://localhost:8080/"
        },
        "id": "m9312kZFdP_E",
        "outputId": "0b7e6efa-f214-424b-e3a5-40677e7661a7"
      },
      "execution_count": 98,
      "outputs": [
        {
          "output_type": "stream",
          "name": "stderr",
          "text": [
            "<ipython-input-98-cc2ff887f1ab>:1: FutureWarning: The error_bad_lines argument has been deprecated and will be removed in a future version. Use on_bad_lines in the future.\n",
            "\n",
            "\n",
            "  df_toniot_sampled = pd.read_csv(os.path.join(DIRECTORIO, \"toniot_sampled.csv\"), skipinitialspace=True, error_bad_lines=False )\n"
          ]
        }
      ]
    },
    {
      "cell_type": "markdown",
      "source": [
        "Eliminamos el atributo 'IPV4_SRC_ADDR', ya que además de ser un String, un atacante puede modificar sus direcciones ip con facilidad por lo que no es un buen indicador de ataques"
      ],
      "metadata": {
        "id": "4bjot1W7wOlo"
      }
    },
    {
      "cell_type": "code",
      "source": [
        "df_cic_sampled['Attack'].value_counts()"
      ],
      "metadata": {
        "colab": {
          "base_uri": "https://localhost:8080/"
        },
        "id": "rDtYHYVv-Kan",
        "outputId": "90e679e8-8f9c-460b-9882-12be24c397f9"
      },
      "execution_count": 100,
      "outputs": [
        {
          "output_type": "execute_result",
          "data": {
            "text/plain": [
              "Benign           880623\n",
              "DDoS              73558\n",
              "DoS               25574\n",
              "Bot                7595\n",
              "Brute Force        6525\n",
              "Infilteration      6108\n",
              "injection            17\n",
              "Name: Attack, dtype: int64"
            ]
          },
          "metadata": {},
          "execution_count": 100
        }
      ]
    },
    {
      "cell_type": "code",
      "source": [
        "df_nb15_sampled['Attack'].value_counts()"
      ],
      "metadata": {
        "id": "Mcm3tiri-dFj",
        "outputId": "d309b047-0ed5-4426-b970-71247323c54e",
        "colab": {
          "base_uri": "https://localhost:8080/"
        }
      },
      "execution_count": 101,
      "outputs": [
        {
          "output_type": "execute_result",
          "data": {
            "text/plain": [
              "Benign            960078\n",
              "Exploits           13187\n",
              "Fuzzers             9377\n",
              "Generic             6976\n",
              "Reconnaissance      5352\n",
              "DoS                 2455\n",
              "Analysis             969\n",
              "Backdoor             925\n",
              "Shellcode            617\n",
              "Worms                 64\n",
              "Name: Attack, dtype: int64"
            ]
          },
          "metadata": {},
          "execution_count": 101
        }
      ]
    },
    {
      "cell_type": "code",
      "source": [
        "df_toniot_sampled['Attack'].value_counts()"
      ],
      "metadata": {
        "id": "uwXbuD0N-d9T",
        "outputId": "97de7913-1c23-4b6a-a11c-e2a84082d076",
        "colab": {
          "base_uri": "https://localhost:8080/"
        }
      },
      "execution_count": 102,
      "outputs": [
        {
          "output_type": "execute_result",
          "data": {
            "text/plain": [
              "Benign        359618\n",
              "scanning      223060\n",
              "xss           145234\n",
              "DDoS          119871\n",
              "password       68014\n",
              "DoS            42057\n",
              "injection      40578\n",
              "Backdoor         945\n",
              "mitm             437\n",
              "ransomware       186\n",
              "Name: Attack, dtype: int64"
            ]
          },
          "metadata": {},
          "execution_count": 102
        }
      ]
    },
    {
      "cell_type": "markdown",
      "source": [
        "# Detección de ataques de forma binaria"
      ],
      "metadata": {
        "id": "8nLREtNC3sKM"
      }
    },
    {
      "cell_type": "code",
      "source": [
        "df_cic_sampled = df_cic_sampled.drop(columns=['IPV4_SRC_ADDR','Dataset','Attack', 'IPV4_DST_ADDR'])\n",
        "df_nb15_sampled = df_nb15_sampled.drop(columns=['IPV4_SRC_ADDR','Dataset','Attack', 'IPV4_DST_ADDR'])\n",
        "df_toniot_sampled = df_toniot_sampled.drop(columns=['IPV4_SRC_ADDR','Dataset','Attack', 'IPV4_DST_ADDR'])"
      ],
      "metadata": {
        "id": "UjnPDY2qvFIu"
      },
      "execution_count": 90,
      "outputs": []
    },
    {
      "cell_type": "code",
      "source": [
        "# info(), describe()\n",
        "df_cic_sampled.describe()"
      ],
      "metadata": {
        "colab": {
          "base_uri": "https://localhost:8080/",
          "height": 364
        },
        "id": "ZIphsH-fEnQX",
        "outputId": "2469e889-e80c-48a3-a475-9849937065b6"
      },
      "execution_count": null,
      "outputs": [
        {
          "output_type": "execute_result",
          "data": {
            "text/plain": [
              "          L4_SRC_PORT     L4_DST_PORT        PROTOCOL        L7_PROTO  \\\n",
              "count  1000000.000000  1000000.000000  1000000.000000  1000000.000000   \n",
              "mean     52659.920038     1284.360772       10.548983       12.403945   \n",
              "std      11642.282164     3772.600236        5.435479       28.713816   \n",
              "min          0.000000        0.000000        1.000000        0.000000   \n",
              "25%      50725.000000       53.000000        6.000000        0.000000   \n",
              "50%      54193.000000       80.000000        6.000000        0.000000   \n",
              "75%      59507.000000      445.000000       17.000000        7.000000   \n",
              "max      65535.000000    65535.000000       58.000000      248.000000   \n",
              "\n",
              "           IN_BYTES         IN_PKTS     OUT_BYTES        OUT_PKTS  \\\n",
              "count  1.000000e+06  1000000.000000  1.000000e+06  1000000.000000   \n",
              "mean   1.740838e+03       22.161183  7.421483e+03       10.060070   \n",
              "std    6.437620e+04     1038.055828  5.257403e+05      353.651708   \n",
              "min    2.800000e+01        1.000000  0.000000e+00        0.000000   \n",
              "25%    6.900000e+01        1.000000  1.170000e+02        1.000000   \n",
              "50%    1.800000e+02        4.000000  3.220000e+02        3.000000   \n",
              "75%    1.460000e+03        9.000000  1.873000e+03        7.000000   \n",
              "max    1.652742e+07   200931.000000  1.884438e+08   126653.000000   \n",
              "\n",
              "            TCP_FLAGS  CLIENT_TCP_FLAGS  SERVER_TCP_FLAGS  \\\n",
              "count  1000000.000000    1000000.000000    1000000.000000   \n",
              "mean        76.299446         75.594511         21.262760   \n",
              "std         99.070738         98.840040         28.909778   \n",
              "min          0.000000          0.000000          0.000000   \n",
              "25%          0.000000          0.000000          0.000000   \n",
              "50%         27.000000         26.000000         22.000000   \n",
              "75%        219.000000        219.000000         27.000000   \n",
              "max        223.000000        223.000000        223.000000   \n",
              "\n",
              "       FLOW_DURATION_MILLISECONDS     DURATION_IN    DURATION_OUT  \\\n",
              "count                1.000000e+06  1000000.000000  1000000.000000   \n",
              "mean                 5.740977e+05       23.260189       11.283958   \n",
              "std                  1.461522e+06     1019.594722       74.125931   \n",
              "min                  0.000000e+00        0.000000        0.000000   \n",
              "25%                  0.000000e+00        0.000000        0.000000   \n",
              "50%                  0.000000e+00        0.000000        0.000000   \n",
              "75%                  0.000000e+00        0.000000        0.000000   \n",
              "max                  4.294967e+06   106681.000000    14999.000000   \n",
              "\n",
              "              MIN_TTL         MAX_TTL  LONGEST_FLOW_PKT  SHORTEST_FLOW_PKT  \\\n",
              "count  1000000.000000  1000000.000000    1000000.000000     1000000.000000   \n",
              "mean        71.586959       71.695324        564.173963          53.587941   \n",
              "std         56.891609       57.004592        540.273537          36.367985   \n",
              "min          0.000000        0.000000         28.000000          28.000000   \n",
              "25%          0.000000        0.000000        100.000000          40.000000   \n",
              "50%        101.000000      101.000000        191.000000          40.000000   \n",
              "75%        128.000000      128.000000       1189.000000          66.000000   \n",
              "max        255.000000      255.000000      65212.000000        1500.000000   \n",
              "\n",
              "       MIN_IP_PKT_LEN  MAX_IP_PKT_LEN  SRC_TO_DST_SECOND_BYTES  \\\n",
              "count  1000000.000000  1000000.000000             1.000000e+06   \n",
              "mean        49.403967      564.173963            3.433269e+284   \n",
              "std         19.578821      540.273537                      inf   \n",
              "min          0.000000       28.000000             0.000000e+00   \n",
              "25%         40.000000      100.000000             7.000000e+01   \n",
              "50%         40.000000      191.000000             2.080000e+02   \n",
              "75%         65.000000     1189.000000             1.460000e+03   \n",
              "max       1260.000000    65212.000000            3.432020e+290   \n",
              "\n",
              "       DST_TO_SRC_SECOND_BYTES  RETRANSMITTED_IN_BYTES  RETRANSMITTED_IN_PKTS  \\\n",
              "count             1.000000e+06          1000000.000000         1000000.000000   \n",
              "mean              9.549449e+15               38.895994               0.544643   \n",
              "std               9.549185e+18              283.660998               2.983208   \n",
              "min               0.000000e+00                0.000000               0.000000   \n",
              "25%               1.210000e+02                0.000000               0.000000   \n",
              "50%               3.380000e+02                0.000000               0.000000   \n",
              "75%               1.873000e+03                0.000000               0.000000   \n",
              "max               9.549185e+21            58459.000000             345.000000   \n",
              "\n",
              "       RETRANSMITTED_OUT_BYTES  RETRANSMITTED_OUT_PKTS  \\\n",
              "count             1.000000e+06          1000000.000000   \n",
              "mean              5.034912e+01                0.115312   \n",
              "std               2.569057e+03                2.165843   \n",
              "min               0.000000e+00                0.000000   \n",
              "25%               0.000000e+00                0.000000   \n",
              "50%               0.000000e+00                0.000000   \n",
              "75%               0.000000e+00                0.000000   \n",
              "max               1.092106e+06              729.000000   \n",
              "\n",
              "       SRC_TO_DST_AVG_THROUGHPUT  DST_TO_SRC_AVG_THROUGHPUT  \\\n",
              "count               1.000000e+06               1.000000e+06   \n",
              "mean                4.762750e+06               1.400946e+07   \n",
              "std                 1.139812e+07               9.683141e+07   \n",
              "min                 0.000000e+00               0.000000e+00   \n",
              "25%                 5.280000e+05               7.600000e+05   \n",
              "50%                 9.920000e+05               1.440000e+06   \n",
              "75%                 9.096000e+06               1.376800e+07   \n",
              "max                 3.482641e+09               4.293072e+09   \n",
              "\n",
              "       NUM_PKTS_UP_TO_128_BYTES  NUM_PKTS_128_TO_256_BYTES  \\\n",
              "count            1000000.000000              1000000.00000   \n",
              "mean                  25.067955                    1.34409   \n",
              "std                 1038.064961                    6.03406   \n",
              "min                    0.000000                    0.00000   \n",
              "25%                    2.000000                    0.00000   \n",
              "50%                    6.000000                    1.00000   \n",
              "75%                   12.000000                    2.00000   \n",
              "max               200931.000000                 1899.00000   \n",
              "\n",
              "       NUM_PKTS_256_TO_512_BYTES  NUM_PKTS_512_TO_1024_BYTES  \\\n",
              "count             1000000.000000              1000000.000000   \n",
              "mean                    0.742837                    0.615475   \n",
              "std                     4.639909                    4.776127   \n",
              "min                     0.000000                    0.000000   \n",
              "25%                     0.000000                    0.000000   \n",
              "50%                     0.000000                    0.000000   \n",
              "75%                     1.000000                    1.000000   \n",
              "max                  1044.000000                 2115.000000   \n",
              "\n",
              "       NUM_PKTS_1024_TO_1514_BYTES  TCP_WIN_MAX_IN  TCP_WIN_MAX_OUT  \\\n",
              "count               1000000.000000  1000000.000000   1000000.000000   \n",
              "mean                      4.541102    11521.682196     20960.230931   \n",
              "std                     349.821967    19104.998681     25035.197726   \n",
              "min                       0.000000        0.000000         0.000000   \n",
              "25%                       0.000000        0.000000         0.000000   \n",
              "50%                       0.000000     8192.000000      8192.000000   \n",
              "75%                       1.000000     8192.000000     29200.000000   \n",
              "max                  125299.000000    65535.000000     65535.000000   \n",
              "\n",
              "            ICMP_TYPE  ICMP_IPV4_TYPE    DNS_QUERY_ID  DNS_QUERY_TYPE  \\\n",
              "count  1000000.000000  1000000.000000  1000000.000000  1000000.000000   \n",
              "mean      3243.569417       12.670189    13377.853879        3.901842   \n",
              "std      12051.384688       47.075722    20137.412899       15.596916   \n",
              "min          0.000000        0.000000        0.000000        0.000000   \n",
              "25%          0.000000        0.000000        0.000000        0.000000   \n",
              "50%          0.000000        0.000000        0.000000        0.000000   \n",
              "75%          0.000000        0.000000    25392.000000        1.000000   \n",
              "max      65280.000000      255.000000    65535.000000      255.000000   \n",
              "\n",
              "       DNS_TTL_ANSWER  FTP_COMMAND_RET_CODE           Label  \n",
              "count  1000000.000000             1000000.0  1000000.000000  \n",
              "mean        19.153562                   0.0        0.119377  \n",
              "std         26.367543                   0.0        0.324232  \n",
              "min          0.000000                   0.0        0.000000  \n",
              "25%          0.000000                   0.0        0.000000  \n",
              "50%          0.000000                   0.0        0.000000  \n",
              "75%         60.000000                   0.0        0.000000  \n",
              "max        600.000000                   0.0        1.000000  "
            ],
            "text/html": [
              "\n",
              "  <div id=\"df-5dec7932-5ef9-4487-bc3b-6d55b7ec138e\">\n",
              "    <div class=\"colab-df-container\">\n",
              "      <div>\n",
              "<style scoped>\n",
              "    .dataframe tbody tr th:only-of-type {\n",
              "        vertical-align: middle;\n",
              "    }\n",
              "\n",
              "    .dataframe tbody tr th {\n",
              "        vertical-align: top;\n",
              "    }\n",
              "\n",
              "    .dataframe thead th {\n",
              "        text-align: right;\n",
              "    }\n",
              "</style>\n",
              "<table border=\"1\" class=\"dataframe\">\n",
              "  <thead>\n",
              "    <tr style=\"text-align: right;\">\n",
              "      <th></th>\n",
              "      <th>L4_SRC_PORT</th>\n",
              "      <th>L4_DST_PORT</th>\n",
              "      <th>PROTOCOL</th>\n",
              "      <th>L7_PROTO</th>\n",
              "      <th>IN_BYTES</th>\n",
              "      <th>IN_PKTS</th>\n",
              "      <th>OUT_BYTES</th>\n",
              "      <th>OUT_PKTS</th>\n",
              "      <th>TCP_FLAGS</th>\n",
              "      <th>CLIENT_TCP_FLAGS</th>\n",
              "      <th>SERVER_TCP_FLAGS</th>\n",
              "      <th>FLOW_DURATION_MILLISECONDS</th>\n",
              "      <th>DURATION_IN</th>\n",
              "      <th>DURATION_OUT</th>\n",
              "      <th>MIN_TTL</th>\n",
              "      <th>MAX_TTL</th>\n",
              "      <th>LONGEST_FLOW_PKT</th>\n",
              "      <th>SHORTEST_FLOW_PKT</th>\n",
              "      <th>MIN_IP_PKT_LEN</th>\n",
              "      <th>MAX_IP_PKT_LEN</th>\n",
              "      <th>SRC_TO_DST_SECOND_BYTES</th>\n",
              "      <th>DST_TO_SRC_SECOND_BYTES</th>\n",
              "      <th>RETRANSMITTED_IN_BYTES</th>\n",
              "      <th>RETRANSMITTED_IN_PKTS</th>\n",
              "      <th>RETRANSMITTED_OUT_BYTES</th>\n",
              "      <th>RETRANSMITTED_OUT_PKTS</th>\n",
              "      <th>SRC_TO_DST_AVG_THROUGHPUT</th>\n",
              "      <th>DST_TO_SRC_AVG_THROUGHPUT</th>\n",
              "      <th>NUM_PKTS_UP_TO_128_BYTES</th>\n",
              "      <th>NUM_PKTS_128_TO_256_BYTES</th>\n",
              "      <th>NUM_PKTS_256_TO_512_BYTES</th>\n",
              "      <th>NUM_PKTS_512_TO_1024_BYTES</th>\n",
              "      <th>NUM_PKTS_1024_TO_1514_BYTES</th>\n",
              "      <th>TCP_WIN_MAX_IN</th>\n",
              "      <th>TCP_WIN_MAX_OUT</th>\n",
              "      <th>ICMP_TYPE</th>\n",
              "      <th>ICMP_IPV4_TYPE</th>\n",
              "      <th>DNS_QUERY_ID</th>\n",
              "      <th>DNS_QUERY_TYPE</th>\n",
              "      <th>DNS_TTL_ANSWER</th>\n",
              "      <th>FTP_COMMAND_RET_CODE</th>\n",
              "      <th>Label</th>\n",
              "    </tr>\n",
              "  </thead>\n",
              "  <tbody>\n",
              "    <tr>\n",
              "      <th>count</th>\n",
              "      <td>1000000.000000</td>\n",
              "      <td>1000000.000000</td>\n",
              "      <td>1000000.000000</td>\n",
              "      <td>1000000.000000</td>\n",
              "      <td>1.000000e+06</td>\n",
              "      <td>1000000.000000</td>\n",
              "      <td>1.000000e+06</td>\n",
              "      <td>1000000.000000</td>\n",
              "      <td>1000000.000000</td>\n",
              "      <td>1000000.000000</td>\n",
              "      <td>1000000.000000</td>\n",
              "      <td>1.000000e+06</td>\n",
              "      <td>1000000.000000</td>\n",
              "      <td>1000000.000000</td>\n",
              "      <td>1000000.000000</td>\n",
              "      <td>1000000.000000</td>\n",
              "      <td>1000000.000000</td>\n",
              "      <td>1000000.000000</td>\n",
              "      <td>1000000.000000</td>\n",
              "      <td>1000000.000000</td>\n",
              "      <td>1.000000e+06</td>\n",
              "      <td>1.000000e+06</td>\n",
              "      <td>1000000.000000</td>\n",
              "      <td>1000000.000000</td>\n",
              "      <td>1.000000e+06</td>\n",
              "      <td>1000000.000000</td>\n",
              "      <td>1.000000e+06</td>\n",
              "      <td>1.000000e+06</td>\n",
              "      <td>1000000.000000</td>\n",
              "      <td>1000000.00000</td>\n",
              "      <td>1000000.000000</td>\n",
              "      <td>1000000.000000</td>\n",
              "      <td>1000000.000000</td>\n",
              "      <td>1000000.000000</td>\n",
              "      <td>1000000.000000</td>\n",
              "      <td>1000000.000000</td>\n",
              "      <td>1000000.000000</td>\n",
              "      <td>1000000.000000</td>\n",
              "      <td>1000000.000000</td>\n",
              "      <td>1000000.000000</td>\n",
              "      <td>1000000.0</td>\n",
              "      <td>1000000.000000</td>\n",
              "    </tr>\n",
              "    <tr>\n",
              "      <th>mean</th>\n",
              "      <td>52659.920038</td>\n",
              "      <td>1284.360772</td>\n",
              "      <td>10.548983</td>\n",
              "      <td>12.403945</td>\n",
              "      <td>1.740838e+03</td>\n",
              "      <td>22.161183</td>\n",
              "      <td>7.421483e+03</td>\n",
              "      <td>10.060070</td>\n",
              "      <td>76.299446</td>\n",
              "      <td>75.594511</td>\n",
              "      <td>21.262760</td>\n",
              "      <td>5.740977e+05</td>\n",
              "      <td>23.260189</td>\n",
              "      <td>11.283958</td>\n",
              "      <td>71.586959</td>\n",
              "      <td>71.695324</td>\n",
              "      <td>564.173963</td>\n",
              "      <td>53.587941</td>\n",
              "      <td>49.403967</td>\n",
              "      <td>564.173963</td>\n",
              "      <td>3.433269e+284</td>\n",
              "      <td>9.549449e+15</td>\n",
              "      <td>38.895994</td>\n",
              "      <td>0.544643</td>\n",
              "      <td>5.034912e+01</td>\n",
              "      <td>0.115312</td>\n",
              "      <td>4.762750e+06</td>\n",
              "      <td>1.400946e+07</td>\n",
              "      <td>25.067955</td>\n",
              "      <td>1.34409</td>\n",
              "      <td>0.742837</td>\n",
              "      <td>0.615475</td>\n",
              "      <td>4.541102</td>\n",
              "      <td>11521.682196</td>\n",
              "      <td>20960.230931</td>\n",
              "      <td>3243.569417</td>\n",
              "      <td>12.670189</td>\n",
              "      <td>13377.853879</td>\n",
              "      <td>3.901842</td>\n",
              "      <td>19.153562</td>\n",
              "      <td>0.0</td>\n",
              "      <td>0.119377</td>\n",
              "    </tr>\n",
              "    <tr>\n",
              "      <th>std</th>\n",
              "      <td>11642.282164</td>\n",
              "      <td>3772.600236</td>\n",
              "      <td>5.435479</td>\n",
              "      <td>28.713816</td>\n",
              "      <td>6.437620e+04</td>\n",
              "      <td>1038.055828</td>\n",
              "      <td>5.257403e+05</td>\n",
              "      <td>353.651708</td>\n",
              "      <td>99.070738</td>\n",
              "      <td>98.840040</td>\n",
              "      <td>28.909778</td>\n",
              "      <td>1.461522e+06</td>\n",
              "      <td>1019.594722</td>\n",
              "      <td>74.125931</td>\n",
              "      <td>56.891609</td>\n",
              "      <td>57.004592</td>\n",
              "      <td>540.273537</td>\n",
              "      <td>36.367985</td>\n",
              "      <td>19.578821</td>\n",
              "      <td>540.273537</td>\n",
              "      <td>inf</td>\n",
              "      <td>9.549185e+18</td>\n",
              "      <td>283.660998</td>\n",
              "      <td>2.983208</td>\n",
              "      <td>2.569057e+03</td>\n",
              "      <td>2.165843</td>\n",
              "      <td>1.139812e+07</td>\n",
              "      <td>9.683141e+07</td>\n",
              "      <td>1038.064961</td>\n",
              "      <td>6.03406</td>\n",
              "      <td>4.639909</td>\n",
              "      <td>4.776127</td>\n",
              "      <td>349.821967</td>\n",
              "      <td>19104.998681</td>\n",
              "      <td>25035.197726</td>\n",
              "      <td>12051.384688</td>\n",
              "      <td>47.075722</td>\n",
              "      <td>20137.412899</td>\n",
              "      <td>15.596916</td>\n",
              "      <td>26.367543</td>\n",
              "      <td>0.0</td>\n",
              "      <td>0.324232</td>\n",
              "    </tr>\n",
              "    <tr>\n",
              "      <th>min</th>\n",
              "      <td>0.000000</td>\n",
              "      <td>0.000000</td>\n",
              "      <td>1.000000</td>\n",
              "      <td>0.000000</td>\n",
              "      <td>2.800000e+01</td>\n",
              "      <td>1.000000</td>\n",
              "      <td>0.000000e+00</td>\n",
              "      <td>0.000000</td>\n",
              "      <td>0.000000</td>\n",
              "      <td>0.000000</td>\n",
              "      <td>0.000000</td>\n",
              "      <td>0.000000e+00</td>\n",
              "      <td>0.000000</td>\n",
              "      <td>0.000000</td>\n",
              "      <td>0.000000</td>\n",
              "      <td>0.000000</td>\n",
              "      <td>28.000000</td>\n",
              "      <td>28.000000</td>\n",
              "      <td>0.000000</td>\n",
              "      <td>28.000000</td>\n",
              "      <td>0.000000e+00</td>\n",
              "      <td>0.000000e+00</td>\n",
              "      <td>0.000000</td>\n",
              "      <td>0.000000</td>\n",
              "      <td>0.000000e+00</td>\n",
              "      <td>0.000000</td>\n",
              "      <td>0.000000e+00</td>\n",
              "      <td>0.000000e+00</td>\n",
              "      <td>0.000000</td>\n",
              "      <td>0.00000</td>\n",
              "      <td>0.000000</td>\n",
              "      <td>0.000000</td>\n",
              "      <td>0.000000</td>\n",
              "      <td>0.000000</td>\n",
              "      <td>0.000000</td>\n",
              "      <td>0.000000</td>\n",
              "      <td>0.000000</td>\n",
              "      <td>0.000000</td>\n",
              "      <td>0.000000</td>\n",
              "      <td>0.000000</td>\n",
              "      <td>0.0</td>\n",
              "      <td>0.000000</td>\n",
              "    </tr>\n",
              "    <tr>\n",
              "      <th>25%</th>\n",
              "      <td>50725.000000</td>\n",
              "      <td>53.000000</td>\n",
              "      <td>6.000000</td>\n",
              "      <td>0.000000</td>\n",
              "      <td>6.900000e+01</td>\n",
              "      <td>1.000000</td>\n",
              "      <td>1.170000e+02</td>\n",
              "      <td>1.000000</td>\n",
              "      <td>0.000000</td>\n",
              "      <td>0.000000</td>\n",
              "      <td>0.000000</td>\n",
              "      <td>0.000000e+00</td>\n",
              "      <td>0.000000</td>\n",
              "      <td>0.000000</td>\n",
              "      <td>0.000000</td>\n",
              "      <td>0.000000</td>\n",
              "      <td>100.000000</td>\n",
              "      <td>40.000000</td>\n",
              "      <td>40.000000</td>\n",
              "      <td>100.000000</td>\n",
              "      <td>7.000000e+01</td>\n",
              "      <td>1.210000e+02</td>\n",
              "      <td>0.000000</td>\n",
              "      <td>0.000000</td>\n",
              "      <td>0.000000e+00</td>\n",
              "      <td>0.000000</td>\n",
              "      <td>5.280000e+05</td>\n",
              "      <td>7.600000e+05</td>\n",
              "      <td>2.000000</td>\n",
              "      <td>0.00000</td>\n",
              "      <td>0.000000</td>\n",
              "      <td>0.000000</td>\n",
              "      <td>0.000000</td>\n",
              "      <td>0.000000</td>\n",
              "      <td>0.000000</td>\n",
              "      <td>0.000000</td>\n",
              "      <td>0.000000</td>\n",
              "      <td>0.000000</td>\n",
              "      <td>0.000000</td>\n",
              "      <td>0.000000</td>\n",
              "      <td>0.0</td>\n",
              "      <td>0.000000</td>\n",
              "    </tr>\n",
              "    <tr>\n",
              "      <th>50%</th>\n",
              "      <td>54193.000000</td>\n",
              "      <td>80.000000</td>\n",
              "      <td>6.000000</td>\n",
              "      <td>0.000000</td>\n",
              "      <td>1.800000e+02</td>\n",
              "      <td>4.000000</td>\n",
              "      <td>3.220000e+02</td>\n",
              "      <td>3.000000</td>\n",
              "      <td>27.000000</td>\n",
              "      <td>26.000000</td>\n",
              "      <td>22.000000</td>\n",
              "      <td>0.000000e+00</td>\n",
              "      <td>0.000000</td>\n",
              "      <td>0.000000</td>\n",
              "      <td>101.000000</td>\n",
              "      <td>101.000000</td>\n",
              "      <td>191.000000</td>\n",
              "      <td>40.000000</td>\n",
              "      <td>40.000000</td>\n",
              "      <td>191.000000</td>\n",
              "      <td>2.080000e+02</td>\n",
              "      <td>3.380000e+02</td>\n",
              "      <td>0.000000</td>\n",
              "      <td>0.000000</td>\n",
              "      <td>0.000000e+00</td>\n",
              "      <td>0.000000</td>\n",
              "      <td>9.920000e+05</td>\n",
              "      <td>1.440000e+06</td>\n",
              "      <td>6.000000</td>\n",
              "      <td>1.00000</td>\n",
              "      <td>0.000000</td>\n",
              "      <td>0.000000</td>\n",
              "      <td>0.000000</td>\n",
              "      <td>8192.000000</td>\n",
              "      <td>8192.000000</td>\n",
              "      <td>0.000000</td>\n",
              "      <td>0.000000</td>\n",
              "      <td>0.000000</td>\n",
              "      <td>0.000000</td>\n",
              "      <td>0.000000</td>\n",
              "      <td>0.0</td>\n",
              "      <td>0.000000</td>\n",
              "    </tr>\n",
              "    <tr>\n",
              "      <th>75%</th>\n",
              "      <td>59507.000000</td>\n",
              "      <td>445.000000</td>\n",
              "      <td>17.000000</td>\n",
              "      <td>7.000000</td>\n",
              "      <td>1.460000e+03</td>\n",
              "      <td>9.000000</td>\n",
              "      <td>1.873000e+03</td>\n",
              "      <td>7.000000</td>\n",
              "      <td>219.000000</td>\n",
              "      <td>219.000000</td>\n",
              "      <td>27.000000</td>\n",
              "      <td>0.000000e+00</td>\n",
              "      <td>0.000000</td>\n",
              "      <td>0.000000</td>\n",
              "      <td>128.000000</td>\n",
              "      <td>128.000000</td>\n",
              "      <td>1189.000000</td>\n",
              "      <td>66.000000</td>\n",
              "      <td>65.000000</td>\n",
              "      <td>1189.000000</td>\n",
              "      <td>1.460000e+03</td>\n",
              "      <td>1.873000e+03</td>\n",
              "      <td>0.000000</td>\n",
              "      <td>0.000000</td>\n",
              "      <td>0.000000e+00</td>\n",
              "      <td>0.000000</td>\n",
              "      <td>9.096000e+06</td>\n",
              "      <td>1.376800e+07</td>\n",
              "      <td>12.000000</td>\n",
              "      <td>2.00000</td>\n",
              "      <td>1.000000</td>\n",
              "      <td>1.000000</td>\n",
              "      <td>1.000000</td>\n",
              "      <td>8192.000000</td>\n",
              "      <td>29200.000000</td>\n",
              "      <td>0.000000</td>\n",
              "      <td>0.000000</td>\n",
              "      <td>25392.000000</td>\n",
              "      <td>1.000000</td>\n",
              "      <td>60.000000</td>\n",
              "      <td>0.0</td>\n",
              "      <td>0.000000</td>\n",
              "    </tr>\n",
              "    <tr>\n",
              "      <th>max</th>\n",
              "      <td>65535.000000</td>\n",
              "      <td>65535.000000</td>\n",
              "      <td>58.000000</td>\n",
              "      <td>248.000000</td>\n",
              "      <td>1.652742e+07</td>\n",
              "      <td>200931.000000</td>\n",
              "      <td>1.884438e+08</td>\n",
              "      <td>126653.000000</td>\n",
              "      <td>223.000000</td>\n",
              "      <td>223.000000</td>\n",
              "      <td>223.000000</td>\n",
              "      <td>4.294967e+06</td>\n",
              "      <td>106681.000000</td>\n",
              "      <td>14999.000000</td>\n",
              "      <td>255.000000</td>\n",
              "      <td>255.000000</td>\n",
              "      <td>65212.000000</td>\n",
              "      <td>1500.000000</td>\n",
              "      <td>1260.000000</td>\n",
              "      <td>65212.000000</td>\n",
              "      <td>3.432020e+290</td>\n",
              "      <td>9.549185e+21</td>\n",
              "      <td>58459.000000</td>\n",
              "      <td>345.000000</td>\n",
              "      <td>1.092106e+06</td>\n",
              "      <td>729.000000</td>\n",
              "      <td>3.482641e+09</td>\n",
              "      <td>4.293072e+09</td>\n",
              "      <td>200931.000000</td>\n",
              "      <td>1899.00000</td>\n",
              "      <td>1044.000000</td>\n",
              "      <td>2115.000000</td>\n",
              "      <td>125299.000000</td>\n",
              "      <td>65535.000000</td>\n",
              "      <td>65535.000000</td>\n",
              "      <td>65280.000000</td>\n",
              "      <td>255.000000</td>\n",
              "      <td>65535.000000</td>\n",
              "      <td>255.000000</td>\n",
              "      <td>600.000000</td>\n",
              "      <td>0.0</td>\n",
              "      <td>1.000000</td>\n",
              "    </tr>\n",
              "  </tbody>\n",
              "</table>\n",
              "</div>\n",
              "      <button class=\"colab-df-convert\" onclick=\"convertToInteractive('df-5dec7932-5ef9-4487-bc3b-6d55b7ec138e')\"\n",
              "              title=\"Convert this dataframe to an interactive table.\"\n",
              "              style=\"display:none;\">\n",
              "        \n",
              "  <svg xmlns=\"http://www.w3.org/2000/svg\" height=\"24px\"viewBox=\"0 0 24 24\"\n",
              "       width=\"24px\">\n",
              "    <path d=\"M0 0h24v24H0V0z\" fill=\"none\"/>\n",
              "    <path d=\"M18.56 5.44l.94 2.06.94-2.06 2.06-.94-2.06-.94-.94-2.06-.94 2.06-2.06.94zm-11 1L8.5 8.5l.94-2.06 2.06-.94-2.06-.94L8.5 2.5l-.94 2.06-2.06.94zm10 10l.94 2.06.94-2.06 2.06-.94-2.06-.94-.94-2.06-.94 2.06-2.06.94z\"/><path d=\"M17.41 7.96l-1.37-1.37c-.4-.4-.92-.59-1.43-.59-.52 0-1.04.2-1.43.59L10.3 9.45l-7.72 7.72c-.78.78-.78 2.05 0 2.83L4 21.41c.39.39.9.59 1.41.59.51 0 1.02-.2 1.41-.59l7.78-7.78 2.81-2.81c.8-.78.8-2.07 0-2.86zM5.41 20L4 18.59l7.72-7.72 1.47 1.35L5.41 20z\"/>\n",
              "  </svg>\n",
              "      </button>\n",
              "      \n",
              "  <style>\n",
              "    .colab-df-container {\n",
              "      display:flex;\n",
              "      flex-wrap:wrap;\n",
              "      gap: 12px;\n",
              "    }\n",
              "\n",
              "    .colab-df-convert {\n",
              "      background-color: #E8F0FE;\n",
              "      border: none;\n",
              "      border-radius: 50%;\n",
              "      cursor: pointer;\n",
              "      display: none;\n",
              "      fill: #1967D2;\n",
              "      height: 32px;\n",
              "      padding: 0 0 0 0;\n",
              "      width: 32px;\n",
              "    }\n",
              "\n",
              "    .colab-df-convert:hover {\n",
              "      background-color: #E2EBFA;\n",
              "      box-shadow: 0px 1px 2px rgba(60, 64, 67, 0.3), 0px 1px 3px 1px rgba(60, 64, 67, 0.15);\n",
              "      fill: #174EA6;\n",
              "    }\n",
              "\n",
              "    [theme=dark] .colab-df-convert {\n",
              "      background-color: #3B4455;\n",
              "      fill: #D2E3FC;\n",
              "    }\n",
              "\n",
              "    [theme=dark] .colab-df-convert:hover {\n",
              "      background-color: #434B5C;\n",
              "      box-shadow: 0px 1px 3px 1px rgba(0, 0, 0, 0.15);\n",
              "      filter: drop-shadow(0px 1px 2px rgba(0, 0, 0, 0.3));\n",
              "      fill: #FFFFFF;\n",
              "    }\n",
              "  </style>\n",
              "\n",
              "      <script>\n",
              "        const buttonEl =\n",
              "          document.querySelector('#df-5dec7932-5ef9-4487-bc3b-6d55b7ec138e button.colab-df-convert');\n",
              "        buttonEl.style.display =\n",
              "          google.colab.kernel.accessAllowed ? 'block' : 'none';\n",
              "\n",
              "        async function convertToInteractive(key) {\n",
              "          const element = document.querySelector('#df-5dec7932-5ef9-4487-bc3b-6d55b7ec138e');\n",
              "          const dataTable =\n",
              "            await google.colab.kernel.invokeFunction('convertToInteractive',\n",
              "                                                     [key], {});\n",
              "          if (!dataTable) return;\n",
              "\n",
              "          const docLinkHtml = 'Like what you see? Visit the ' +\n",
              "            '<a target=\"_blank\" href=https://colab.research.google.com/notebooks/data_table.ipynb>data table notebook</a>'\n",
              "            + ' to learn more about interactive tables.';\n",
              "          element.innerHTML = '';\n",
              "          dataTable['output_type'] = 'display_data';\n",
              "          await google.colab.output.renderOutput(dataTable, element);\n",
              "          const docLink = document.createElement('div');\n",
              "          docLink.innerHTML = docLinkHtml;\n",
              "          element.appendChild(docLink);\n",
              "        }\n",
              "      </script>\n",
              "    </div>\n",
              "  </div>\n",
              "  "
            ]
          },
          "metadata": {},
          "execution_count": 10
        }
      ]
    },
    {
      "cell_type": "markdown",
      "source": [
        "# Preprocesamiento de los datasets (Por separado)"
      ],
      "metadata": {
        "id": "bXwMbRWHoKWb"
      }
    },
    {
      "cell_type": "markdown",
      "source": [
        "1º Eliminar valores nulos (si existen)"
      ],
      "metadata": {
        "id": "zSUyHgr_5QEr"
      }
    },
    {
      "cell_type": "code",
      "source": [
        "df_cic_sampled = df_cic_sampled.dropna()\n",
        "df_nb15_sampled = df_nb15_sampled.dropna()\n",
        "df_toniot_sampled = df_toniot_sampled.dropna()"
      ],
      "metadata": {
        "id": "hU6CBSd55VI-"
      },
      "execution_count": null,
      "outputs": []
    },
    {
      "cell_type": "markdown",
      "source": [
        "2º Analizar la correlación de las características con las etiquetas"
      ],
      "metadata": {
        "id": "VvBEO33Uy-6f"
      }
    },
    {
      "cell_type": "code",
      "source": [
        "corr_matrix = df_cic_sampled.corr()\n",
        "corr_with_target = corr_matrix['Label']\n",
        "\n",
        "# imprimir coeficientes de correlación ordenados de mayor a menor\n",
        "print(corr_with_target.abs().sort_values(ascending=False))"
      ],
      "metadata": {
        "id": "xQh_bqEW5mDI",
        "colab": {
          "base_uri": "https://localhost:8080/"
        },
        "outputId": "d21321b0-d052-47b5-d8b4-be0f34c342e0"
      },
      "execution_count": null,
      "outputs": [
        {
          "output_type": "stream",
          "name": "stdout",
          "text": [
            "Label                          1.000000\n",
            "FLOW_DURATION_MILLISECONDS     0.749713\n",
            "TCP_WIN_MAX_IN                 0.556323\n",
            "DURATION_OUT                   0.373979\n",
            "CLIENT_TCP_FLAGS               0.297078\n",
            "TCP_FLAGS                      0.296523\n",
            "PROTOCOL                       0.279349\n",
            "DNS_TTL_ANSWER                 0.247652\n",
            "DNS_QUERY_ID                   0.226690\n",
            "MIN_TTL                        0.216128\n",
            "MAX_TTL                        0.215054\n",
            "LONGEST_FLOW_PKT               0.213885\n",
            "MAX_IP_PKT_LEN                 0.213885\n",
            "MIN_IP_PKT_LEN                 0.117293\n",
            "SHORTEST_FLOW_PKT              0.096808\n",
            "SRC_TO_DST_AVG_THROUGHPUT      0.096288\n",
            "RETRANSMITTED_IN_BYTES         0.090447\n",
            "DNS_QUERY_TYPE                 0.086552\n",
            "L7_PROTO                       0.080201\n",
            "NUM_PKTS_512_TO_1024_BYTES     0.079177\n",
            "NUM_PKTS_256_TO_512_BYTES      0.068427\n",
            "TCP_WIN_MAX_OUT                0.060339\n",
            "SERVER_TCP_FLAGS               0.058076\n",
            "L4_SRC_PORT                    0.057959\n",
            "L4_DST_PORT                    0.057347\n",
            "DURATION_IN                    0.056540\n",
            "NUM_PKTS_128_TO_256_BYTES      0.041813\n",
            "DST_TO_SRC_AVG_THROUGHPUT      0.040726\n",
            "NUM_PKTS_UP_TO_128_BYTES       0.039724\n",
            "IN_PKTS                        0.038837\n",
            "IN_BYTES                       0.038580\n",
            "RETRANSMITTED_OUT_PKTS         0.036651\n",
            "RETRANSMITTED_IN_PKTS          0.011142\n",
            "ICMP_TYPE                      0.010875\n",
            "ICMP_IPV4_TYPE                 0.010875\n",
            "RETRANSMITTED_OUT_BYTES        0.010179\n",
            "NUM_PKTS_1024_TO_1514_BYTES    0.004655\n",
            "OUT_BYTES                      0.003738\n",
            "OUT_PKTS                       0.000651\n",
            "DST_TO_SRC_SECOND_BYTES        0.000368\n",
            "SRC_TO_DST_SECOND_BYTES        0.000000\n",
            "FTP_COMMAND_RET_CODE                NaN\n",
            "Name: Label, dtype: float64\n"
          ]
        }
      ]
    },
    {
      "cell_type": "code",
      "source": [
        "corr_matrix2 = df_nb15_sampled.corr()\n",
        "corr_with_target2 = corr_matrix2['Label']\n",
        "\n",
        "# imprimir coeficientes de correlación ordenados de mayor a menor\n",
        "print(corr_with_target2.abs().sort_values(ascending=False))"
      ],
      "metadata": {
        "id": "oq5oZheZL8Mu",
        "colab": {
          "base_uri": "https://localhost:8080/"
        },
        "outputId": "5b6c0082-b85f-4688-db91-dd625245ee55"
      },
      "execution_count": null,
      "outputs": [
        {
          "output_type": "stream",
          "name": "stdout",
          "text": [
            "Label                          1.000000\n",
            "MIN_TTL                        0.825529\n",
            "MAX_TTL                        0.825493\n",
            "MIN_IP_PKT_LEN                 0.482792\n",
            "PROTOCOL                       0.278931\n",
            "SHORTEST_FLOW_PKT              0.157629\n",
            "SERVER_TCP_FLAGS               0.155445\n",
            "TCP_FLAGS                      0.122071\n",
            "CLIENT_TCP_FLAGS               0.117763\n",
            "L4_DST_PORT                    0.106942\n",
            "NUM_PKTS_UP_TO_128_BYTES       0.100721\n",
            "TCP_WIN_MAX_IN                 0.092301\n",
            "MAX_IP_PKT_LEN                 0.086734\n",
            "LONGEST_FLOW_PKT               0.086734\n",
            "DST_TO_SRC_AVG_THROUGHPUT      0.059217\n",
            "DNS_QUERY_TYPE                 0.058207\n",
            "OUT_PKTS                       0.053631\n",
            "L4_SRC_PORT                    0.047733\n",
            "FTP_COMMAND_RET_CODE           0.045093\n",
            "IN_PKTS                        0.044659\n",
            "RETRANSMITTED_OUT_PKTS         0.042562\n",
            "TCP_WIN_MAX_OUT                0.040877\n",
            "FLOW_DURATION_MILLISECONDS     0.038685\n",
            "DURATION_IN                    0.037941\n",
            "DNS_QUERY_ID                   0.035991\n",
            "RETRANSMITTED_IN_BYTES         0.033360\n",
            "OUT_BYTES                      0.031842\n",
            "DURATION_OUT                   0.031305\n",
            "RETRANSMITTED_OUT_BYTES        0.031289\n",
            "IN_BYTES                       0.030415\n",
            "NUM_PKTS_128_TO_256_BYTES      0.028483\n",
            "NUM_PKTS_512_TO_1024_BYTES     0.026606\n",
            "L7_PROTO                       0.026096\n",
            "NUM_PKTS_1024_TO_1514_BYTES    0.015936\n",
            "SRC_TO_DST_AVG_THROUGHPUT      0.014690\n",
            "NUM_PKTS_256_TO_512_BYTES      0.012402\n",
            "DNS_TTL_ANSWER                 0.011636\n",
            "RETRANSMITTED_IN_PKTS          0.007136\n",
            "SRC_TO_DST_SECOND_BYTES        0.004883\n",
            "DST_TO_SRC_SECOND_BYTES        0.004382\n",
            "ICMP_IPV4_TYPE                 0.001266\n",
            "ICMP_TYPE                      0.001251\n",
            "Name: Label, dtype: float64\n"
          ]
        }
      ]
    },
    {
      "cell_type": "code",
      "source": [
        "corr_matrix3 = df_toniot_sampled.corr()\n",
        "corr_with_target3 = corr_matrix3['Label']\n",
        "\n",
        "# imprimir coeficientes de correlación ordenados de mayor a menor\n",
        "print(corr_with_target3.abs().sort_values(ascending=False))"
      ],
      "metadata": {
        "id": "Awx4tzZFL8gX",
        "colab": {
          "base_uri": "https://localhost:8080/"
        },
        "outputId": "1537be0e-4f49-45fe-d27c-93094b914e53"
      },
      "execution_count": null,
      "outputs": [
        {
          "output_type": "stream",
          "name": "stdout",
          "text": [
            "Label                          1.000000\n",
            "TCP_WIN_MAX_IN                 0.359685\n",
            "CLIENT_TCP_FLAGS               0.340647\n",
            "MIN_IP_PKT_LEN                 0.327981\n",
            "TCP_WIN_MAX_OUT                0.316535\n",
            "MIN_TTL                        0.287622\n",
            "MAX_TTL                        0.286448\n",
            "LONGEST_FLOW_PKT               0.253742\n",
            "MAX_IP_PKT_LEN                 0.253742\n",
            "SERVER_TCP_FLAGS               0.221145\n",
            "TCP_FLAGS                      0.202697\n",
            "FLOW_DURATION_MILLISECONDS     0.201501\n",
            "PROTOCOL                       0.123603\n",
            "DURATION_OUT                   0.121629\n",
            "DNS_QUERY_ID                   0.121494\n",
            "DNS_TTL_ANSWER                 0.111608\n",
            "L4_DST_PORT                    0.106291\n",
            "SRC_TO_DST_AVG_THROUGHPUT      0.089090\n",
            "L7_PROTO                       0.088349\n",
            "DURATION_IN                    0.086446\n",
            "DST_TO_SRC_AVG_THROUGHPUT      0.078260\n",
            "SHORTEST_FLOW_PKT              0.071366\n",
            "DNS_QUERY_TYPE                 0.049713\n",
            "FTP_COMMAND_RET_CODE           0.038195\n",
            "NUM_PKTS_UP_TO_128_BYTES       0.033960\n",
            "RETRANSMITTED_OUT_PKTS         0.019445\n",
            "ICMP_IPV4_TYPE                 0.017928\n",
            "ICMP_TYPE                      0.017927\n",
            "L4_SRC_PORT                    0.014327\n",
            "RETRANSMITTED_IN_PKTS          0.008520\n",
            "NUM_PKTS_128_TO_256_BYTES      0.008091\n",
            "RETRANSMITTED_IN_BYTES         0.006122\n",
            "NUM_PKTS_256_TO_512_BYTES      0.006055\n",
            "RETRANSMITTED_OUT_BYTES        0.004813\n",
            "IN_BYTES                       0.002425\n",
            "OUT_BYTES                      0.001491\n",
            "IN_PKTS                        0.001406\n",
            "DST_TO_SRC_SECOND_BYTES        0.001334\n",
            "NUM_PKTS_1024_TO_1514_BYTES    0.000572\n",
            "NUM_PKTS_512_TO_1024_BYTES     0.000538\n",
            "OUT_PKTS                       0.000269\n",
            "SRC_TO_DST_SECOND_BYTES        0.000000\n",
            "Name: Label, dtype: float64\n"
          ]
        }
      ]
    },
    {
      "cell_type": "markdown",
      "source": [
        "3º A partir de las correlaciones elegir los atributos"
      ],
      "metadata": {
        "id": "hwYWdjnNzXyl"
      }
    },
    {
      "cell_type": "code",
      "source": [
        "feature_names_CIC = [\n",
        "    \"FLOW_DURATION_MILLISECONDS\",\n",
        "    \"TCP_WIN_MAX_IN\",\n",
        "    \"DURATION_OUT\",\n",
        "    \"CLIENT_TCP_FLAGS\",\n",
        "    \"TCP_FLAGS\",\n",
        "    \"PROTOCOL\",\n",
        "    \"DNS_TTL_ANSWER\",\n",
        "    \"DNS_QUERY_ID\",\n",
        "    \"MIN_TTL\",\n",
        "    \"MAX_TTL\",\n",
        "    \"LONGEST_FLOW_PKT\",\n",
        "    \"MAX_IP_PKT_LEN\",\n",
        "    \"MIN_IP_PKT_LEN\",\n",
        "    \"SHORTEST_FLOW_PKT\",\n",
        "    \"SRC_TO_DST_AVG_THROUGHPUT\",\n",
        "    \"RETRANSMITTED_IN_BYTES\",\n",
        "    \"DNS_QUERY_TYPE\",\n",
        "    \"L7_PROTO\",\n",
        "    \"NUM_PKTS_512_TO_1024_BYTES\",\n",
        "    \"NUM_PKTS_256_TO_512_BYTES\",\n",
        "    \"TCP_WIN_MAX_OUT\",\n",
        "    \"SERVER_TCP_FLAGS\"\n",
        "]\n",
        "feature_names_CIC_extend = [\n",
        "    \"FLOW_DURATION_MILLISECONDS\",\n",
        "    \"TCP_WIN_MAX_IN\",\n",
        "    \"DURATION_OUT\",\n",
        "    \"CLIENT_TCP_FLAGS\",\n",
        "    \"TCP_FLAGS\",\n",
        "    \"PROTOCOL\",\n",
        "    \"DNS_TTL_ANSWER\",\n",
        "    \"DNS_QUERY_ID\",\n",
        "    \"MIN_TTL\",\n",
        "    \"MAX_TTL\",\n",
        "    \"LONGEST_FLOW_PKT\",\n",
        "    \"MAX_IP_PKT_LEN\",\n",
        "    \"MIN_IP_PKT_LEN\",\n",
        "    \"SHORTEST_FLOW_PKT\",\n",
        "    \"SRC_TO_DST_AVG_THROUGHPUT\",\n",
        "    \"RETRANSMITTED_IN_BYTES\",\n",
        "    \"DNS_QUERY_TYPE\",\n",
        "    \"L7_PROTO\",\n",
        "    \"NUM_PKTS_512_TO_1024_BYTES\",\n",
        "    \"NUM_PKTS_256_TO_512_BYTES\",\n",
        "    \"TCP_WIN_MAX_OUT\",\n",
        "    \"SERVER_TCP_FLAGS\",\n",
        "    \"L4_SRC_PORT\",\n",
        "    \"L4_DST_PORT\",\n",
        "    \"DURATION_IN\",\n",
        "    \"NUM_PKTS_128_TO_256_BYTES\",\n",
        "    \"DST_TO_SRC_AVG_THROUGHPUT\",\n",
        "    \"NUM_PKTS_UP_TO_128_BYTES\",\n",
        "    \"IN_PKTS\",\n",
        "    \"IN_BYTES\",\n",
        "    \"RETRANSMITTED_OUT_PKTS\",\n",
        "    \"RETRANSMITTED_IN_PKTS\",\n",
        "    \"ICMP_TYPE\",\n",
        "    \"ICMP_IPV4_TYPE\",\n",
        "    \"RETRANSMITTED_OUT_BYTES\"\n",
        "]\n",
        "features_names_nb15 = [\n",
        "    \"MIN_TTL\",\n",
        "    \"MAX_TTL\",\n",
        "    \"MIN_IP_PKT_LEN\",\n",
        "    \"PROTOCOL\",\n",
        "    \"SHORTEST_FLOW_PKT\",\n",
        "    \"SERVER_TCP_FLAGS\",\n",
        "    \"TCP_FLAGS\",\n",
        "    \"CLIENT_TCP_FLAGS\",\n",
        "    \"L4_DST_PORT\",\n",
        "    \"NUM_PKTS_UP_TO_128_BYTES\",\n",
        "    \"TCP_WIN_MAX_IN\",\n",
        "    \"MAX_IP_PKT_LEN\",\n",
        "    \"LONGEST_FLOW_PKT\",\n",
        "    \"DST_TO_SRC_AVG_THROUGHPUT\",\n",
        "    \"DNS_QUERY_TYPE\",\n",
        "    \"OUT_PKTS\",\n",
        "    \"L4_SRC_PORT\",\n",
        "    \"FTP_COMMAND_RET_CODE\",\n",
        "    \"IN_PKTS\",\n",
        "    \"RETRANSMITTED_OUT_PKTS\",\n",
        "    \"TCP_WIN_MAX_OUT\",\n",
        "    \"FLOW_DURATION_MILLISECONDS\",\n",
        "]\n",
        "\n",
        "features_name_toniot = [\n",
        "    \"TCP_WIN_MAX_IN\",\n",
        "    \"CLIENT_TCP_FLAGS\",\n",
        "    \"MIN_IP_PKT_LEN\",\n",
        "    \"TCP_WIN_MAX_OUT\",\n",
        "    \"MIN_TTL\",\n",
        "    \"MAX_TTL\",\n",
        "    \"LONGEST_FLOW_PKT\",\n",
        "    \"MAX_IP_PKT_LEN\",\n",
        "    \"SERVER_TCP_FLAGS\",\n",
        "    \"TCP_FLAGS\",\n",
        "    \"FLOW_DURATION_MILLISECONDS\",\n",
        "    \"PROTOCOL\",\n",
        "    \"DURATION_OUT\",\n",
        "    \"DNS_QUERY_ID\",\n",
        "    \"DNS_TTL_ANSWER\",\n",
        "    \"L4_DST_PORT\",\n",
        "    \"SRC_TO_DST_AVG_THROUGHPUT\",\n",
        "    \"L7_PROTO\",\n",
        "    \"DURATION_IN\",\n",
        "    \"DST_TO_SRC_AVG_THROUGHPUT\",\n",
        "    \"SHORTEST_FLOW_PKT\",\n",
        "    \"DNS_QUERY_TYPE\",\n",
        "]\n"
      ],
      "metadata": {
        "id": "6Kim_XCHzW2n"
      },
      "execution_count": 92,
      "outputs": []
    },
    {
      "cell_type": "code",
      "source": [
        "# # Change inf value with maximum value of each class\n",
        "# inf_rows = df_cic_sampled[df_cic_sampled.isin([np.inf]).any(axis=1)].shape[0]\n",
        "# logging.info(\"Replace Inf in {} rows with maximum value of each class.\".format(inf_rows))\n",
        "# # Temporary replace inf with NaN\n",
        "# df_cic_sampled = df_cic_sampled.replace([np.inf], np.nan)\n",
        "# # Replace inf with maximum value of each class in this dataset\n",
        "# df_cic_sampled.iloc[:, df_cic_sampled.columns != \"Label\"] = df_cic_sampled.groupby(\"Label\").transform(lambda x: x.fillna(x.max()))\n",
        "\n",
        "# # Change negative value with minimum positive value of each class\n",
        "# logging.info(\"Replace negative values with minimum value of each class.\")\n",
        "# # Temporary replace negative value with NaN\n",
        "# df_cic_sampled.iloc[:, :-1][df_cic_sampled.iloc[:, :-1] < 0] = np.nan\n",
        "# # Replace negative value with minimum value of each class in this dataset\n",
        "# df_cic_sampled.iloc[:, df_cic_sampled.columns != \"Label\"] = df_cic_sampled.groupby(\"Label\").transform(lambda x: x.fillna(x.min()))"
      ],
      "metadata": {
        "id": "NgrKfhN2_wCM"
      },
      "execution_count": null,
      "outputs": []
    },
    {
      "cell_type": "markdown",
      "source": [
        "## Balanceo (opcional)"
      ],
      "metadata": {
        "id": "_wuOxtY5KaKO"
      }
    },
    {
      "cell_type": "code",
      "source": [
        "indexes = []\n",
        "benign_included_count = 0\n",
        "for index, row in df_cic_sampled.iterrows():\n",
        "    if row['Label'] != 0:\n",
        "        indexes.append(index)\n",
        "    else:\n",
        "        if benign_included_count < 200000:\n",
        "            indexes.append(index)\n",
        "            benign_included_count += 1\n",
        "df_cic_sampled = df_cic_sampled.loc[indexes]"
      ],
      "metadata": {
        "id": "WSNvPG4AI3p4"
      },
      "execution_count": null,
      "outputs": []
    },
    {
      "cell_type": "code",
      "source": [
        "indexes = []\n",
        "benign_included_count = 0\n",
        "for index, row in df_nb15_sampled.iterrows():\n",
        "    if row['Label'] != 0:\n",
        "        indexes.append(index)\n",
        "    else:\n",
        "        if benign_included_count < 200000:\n",
        "            indexes.append(index)\n",
        "            benign_included_count += 1\n",
        "df_nb15_sampled = df_nb15_sampled.loc[indexes]"
      ],
      "metadata": {
        "id": "D_fkdnHcJOZA"
      },
      "execution_count": null,
      "outputs": []
    },
    {
      "cell_type": "markdown",
      "source": [
        "Reducimos la cantidad de ataques?"
      ],
      "metadata": {
        "id": "4XWQGq0DDYqH"
      }
    },
    {
      "cell_type": "code",
      "source": [
        "indexes = []\n",
        "benign_included_count = 0\n",
        "for index, row in df_toniot_sampled.iterrows():\n",
        "    if row['Label'] == 0:\n",
        "        indexes.append(index)\n",
        "    else:\n",
        "        if benign_included_count < 200000:\n",
        "            indexes.append(index)\n",
        "            benign_included_count += 1\n",
        "df_toniot_sampled = df_toniot_sampled.loc[indexes]"
      ],
      "metadata": {
        "id": "_mlGFqwNJOrp"
      },
      "execution_count": 126,
      "outputs": []
    },
    {
      "cell_type": "markdown",
      "source": [
        "# Partición del dataset en entrenamiento y test"
      ],
      "metadata": {
        "id": "8ROLlCIkoa9M"
      }
    },
    {
      "cell_type": "code",
      "source": [
        "# Escalador opcional\n",
        "scaler = MinMaxScaler()"
      ],
      "metadata": {
        "id": "lWPEMHKXk2Yy"
      },
      "execution_count": 82,
      "outputs": []
    },
    {
      "cell_type": "code",
      "source": [
        "# X_cic = df_cic_sampled.drop(['Label'], axis=1)\n",
        "X_cic = df_cic_sampled[feature_names_CIC]\n",
        "y_cic = df_cic_sampled['Label']\n",
        "\n",
        "# Split data into train and test\n",
        "X_train_cic, X_test_cic, y_train_cic, y_test_cic = train_test_split(X_cic, y_cic,shuffle=True, test_size=0.2, random_state=42)\n",
        "\n",
        "scaler.fit(X_train_cic)\n",
        "X_train_cic = scaler.transform(X_train_cic)\n",
        "X_test_cic = scaler.transform(X_test_cic)\n",
        "\n",
        "print(\"X Train shape:\",X_train_cic.shape)\n",
        "print(\"Y Train shape:\",y_train_cic.shape)\n",
        "print(\"X Test shape:\",X_test_cic.shape)\n",
        "print(\"Y Test shape:\",y_test_cic.shape)"
      ],
      "metadata": {
        "colab": {
          "base_uri": "https://localhost:8080/"
        },
        "id": "Fci1nBOloErh",
        "outputId": "9df3f990-67ae-4063-9b21-ea63ad034d75"
      },
      "execution_count": 103,
      "outputs": [
        {
          "output_type": "stream",
          "name": "stdout",
          "text": [
            "X Train shape: (800000, 22)\n",
            "Y Train shape: (800000,)\n",
            "X Test shape: (200000, 22)\n",
            "Y Test shape: (200000,)\n"
          ]
        }
      ]
    },
    {
      "cell_type": "code",
      "source": [
        "df_cic_sampled['Label'].value_counts()"
      ],
      "metadata": {
        "colab": {
          "base_uri": "https://localhost:8080/"
        },
        "id": "bXztVFHaaLQy",
        "outputId": "0d894435-c763-4e99-a7c9-e42c666642cf"
      },
      "execution_count": null,
      "outputs": [
        {
          "output_type": "execute_result",
          "data": {
            "text/plain": [
              "0    880623\n",
              "1    119377\n",
              "Name: Label, dtype: int64"
            ]
          },
          "metadata": {},
          "execution_count": 34
        }
      ]
    },
    {
      "cell_type": "code",
      "source": [
        "# X_nb15 = df_nb15_sampled.drop(['Label'], axis=1) # axis=0 se referiria a filas\n",
        "X_nb15 = df_nb15_sampled[features_names_nb15]\n",
        "y_nb15 = df_nb15_sampled['Label']\n",
        "\n",
        "# Split data into train and test\n",
        "X_train_nb15, X_test_nb15, y_train_nb15, y_test_nb15 = train_test_split(X_nb15, y_nb15,shuffle=True, test_size=0.2, random_state=42)\n",
        "\n",
        "scaler.fit(X_train_nb15)\n",
        "X_train_nb15 = scaler.transform(X_train_nb15)\n",
        "X_test_nb15 = scaler.transform(X_test_nb15)\n",
        "\n",
        "print(\"X Train shape:\",X_train_nb15.shape)\n",
        "print(\"Y Train shape:\",y_train_nb15.shape)\n",
        "print(\"X Test shape:\",X_test_nb15.shape)\n",
        "print(\"Y Test shape:\",y_test_nb15.shape)"
      ],
      "metadata": {
        "colab": {
          "base_uri": "https://localhost:8080/"
        },
        "id": "CHOJA9cjos46",
        "outputId": "48ceb9ee-98e9-4b1b-9005-242433e7243b"
      },
      "execution_count": 107,
      "outputs": [
        {
          "output_type": "stream",
          "name": "stdout",
          "text": [
            "X Train shape: (800000, 22)\n",
            "Y Train shape: (800000,)\n",
            "X Test shape: (200000, 22)\n",
            "Y Test shape: (200000,)\n"
          ]
        }
      ]
    },
    {
      "cell_type": "code",
      "source": [
        "df_nb15_sampled['Label'].value_counts()"
      ],
      "metadata": {
        "colab": {
          "base_uri": "https://localhost:8080/"
        },
        "id": "Kfg3mIQ5YCk6",
        "outputId": "b8d36903-5315-428d-ad4c-7d72c12fb829"
      },
      "execution_count": 108,
      "outputs": [
        {
          "output_type": "execute_result",
          "data": {
            "text/plain": [
              "0    960078\n",
              "1     39922\n",
              "Name: Label, dtype: int64"
            ]
          },
          "metadata": {},
          "execution_count": 108
        }
      ]
    },
    {
      "cell_type": "code",
      "source": [
        "# X_toniot = df_toniot_sampled.drop(['Label'], axis=1)\n",
        "X_toniot = df_toniot_sampled[features_name_toniot]\n",
        "y_toniot = df_toniot_sampled['Label']\n",
        "\n",
        "# Split data into train and test\n",
        "X_train_toniot, X_test_toniot, y_train_toniot, y_test_toniot = train_test_split(X_toniot, y_toniot,shuffle=True, test_size=0.2, random_state=42)\n",
        "\n",
        "scaler.fit(X_train_toniot)\n",
        "X_train_toniot = scaler.transform(X_train_toniot)\n",
        "X_test_toniot = scaler.transform(X_test_toniot)\n",
        "\n",
        "print(\"X Train shape:\",X_train_toniot.shape)\n",
        "print(\"Y Train shape:\",y_train_toniot.shape)\n",
        "print(\"X Test shape:\",X_test_toniot.shape)\n",
        "print(\"Y Test shape:\",y_test_toniot.shape)"
      ],
      "metadata": {
        "colab": {
          "base_uri": "https://localhost:8080/"
        },
        "id": "ZehRLJe5ouJK",
        "outputId": "abf9a300-7615-4803-f840-04e018bfbc04"
      },
      "execution_count": 127,
      "outputs": [
        {
          "output_type": "stream",
          "name": "stdout",
          "text": [
            "X Train shape: (447694, 22)\n",
            "Y Train shape: (447694,)\n",
            "X Test shape: (111924, 22)\n",
            "Y Test shape: (111924,)\n"
          ]
        }
      ]
    },
    {
      "cell_type": "code",
      "source": [
        "df_toniot_sampled['Label'].value_counts()"
      ],
      "metadata": {
        "colab": {
          "base_uri": "https://localhost:8080/"
        },
        "id": "x5TLkmPDYDzG",
        "outputId": "57c390a0-80b5-4603-80c4-6fd4632ca417"
      },
      "execution_count": 136,
      "outputs": [
        {
          "output_type": "execute_result",
          "data": {
            "text/plain": [
              "0    359618\n",
              "1    200000\n",
              "Name: Label, dtype: int64"
            ]
          },
          "metadata": {},
          "execution_count": 136
        }
      ]
    },
    {
      "cell_type": "markdown",
      "source": [
        "# Modelo Regresión Logística (Centralizado)\n",
        "Métricas del CIC-ids2017"
      ],
      "metadata": {
        "id": "sdAw1_0lplt1"
      }
    },
    {
      "cell_type": "code",
      "source": [
        "log_reg = LogisticRegression(random_state=10, solver = 'lbfgs', max_iter=300)\n",
        "log_reg.fit(X_train_cic, y_train_cic)"
      ],
      "metadata": {
        "colab": {
          "base_uri": "https://localhost:8080/",
          "height": 220
        },
        "id": "GYJIWMr2pbJ0",
        "outputId": "113611c2-a60f-40ae-9920-59ab08cad3a2"
      },
      "execution_count": 104,
      "outputs": [
        {
          "output_type": "stream",
          "name": "stderr",
          "text": [
            "/usr/local/lib/python3.9/dist-packages/sklearn/linear_model/_logistic.py:458: ConvergenceWarning: lbfgs failed to converge (status=1):\n",
            "STOP: TOTAL NO. of ITERATIONS REACHED LIMIT.\n",
            "\n",
            "Increase the number of iterations (max_iter) or scale the data as shown in:\n",
            "    https://scikit-learn.org/stable/modules/preprocessing.html\n",
            "Please also refer to the documentation for alternative solver options:\n",
            "    https://scikit-learn.org/stable/modules/linear_model.html#logistic-regression\n",
            "  n_iter_i = _check_optimize_result(\n"
          ]
        },
        {
          "output_type": "execute_result",
          "data": {
            "text/plain": [
              "LogisticRegression(max_iter=300, random_state=10)"
            ],
            "text/html": [
              "<style>#sk-container-id-6 {color: black;background-color: white;}#sk-container-id-6 pre{padding: 0;}#sk-container-id-6 div.sk-toggleable {background-color: white;}#sk-container-id-6 label.sk-toggleable__label {cursor: pointer;display: block;width: 100%;margin-bottom: 0;padding: 0.3em;box-sizing: border-box;text-align: center;}#sk-container-id-6 label.sk-toggleable__label-arrow:before {content: \"▸\";float: left;margin-right: 0.25em;color: #696969;}#sk-container-id-6 label.sk-toggleable__label-arrow:hover:before {color: black;}#sk-container-id-6 div.sk-estimator:hover label.sk-toggleable__label-arrow:before {color: black;}#sk-container-id-6 div.sk-toggleable__content {max-height: 0;max-width: 0;overflow: hidden;text-align: left;background-color: #f0f8ff;}#sk-container-id-6 div.sk-toggleable__content pre {margin: 0.2em;color: black;border-radius: 0.25em;background-color: #f0f8ff;}#sk-container-id-6 input.sk-toggleable__control:checked~div.sk-toggleable__content {max-height: 200px;max-width: 100%;overflow: auto;}#sk-container-id-6 input.sk-toggleable__control:checked~label.sk-toggleable__label-arrow:before {content: \"▾\";}#sk-container-id-6 div.sk-estimator input.sk-toggleable__control:checked~label.sk-toggleable__label {background-color: #d4ebff;}#sk-container-id-6 div.sk-label input.sk-toggleable__control:checked~label.sk-toggleable__label {background-color: #d4ebff;}#sk-container-id-6 input.sk-hidden--visually {border: 0;clip: rect(1px 1px 1px 1px);clip: rect(1px, 1px, 1px, 1px);height: 1px;margin: -1px;overflow: hidden;padding: 0;position: absolute;width: 1px;}#sk-container-id-6 div.sk-estimator {font-family: monospace;background-color: #f0f8ff;border: 1px dotted black;border-radius: 0.25em;box-sizing: border-box;margin-bottom: 0.5em;}#sk-container-id-6 div.sk-estimator:hover {background-color: #d4ebff;}#sk-container-id-6 div.sk-parallel-item::after {content: \"\";width: 100%;border-bottom: 1px solid gray;flex-grow: 1;}#sk-container-id-6 div.sk-label:hover label.sk-toggleable__label {background-color: #d4ebff;}#sk-container-id-6 div.sk-serial::before {content: \"\";position: absolute;border-left: 1px solid gray;box-sizing: border-box;top: 0;bottom: 0;left: 50%;z-index: 0;}#sk-container-id-6 div.sk-serial {display: flex;flex-direction: column;align-items: center;background-color: white;padding-right: 0.2em;padding-left: 0.2em;position: relative;}#sk-container-id-6 div.sk-item {position: relative;z-index: 1;}#sk-container-id-6 div.sk-parallel {display: flex;align-items: stretch;justify-content: center;background-color: white;position: relative;}#sk-container-id-6 div.sk-item::before, #sk-container-id-6 div.sk-parallel-item::before {content: \"\";position: absolute;border-left: 1px solid gray;box-sizing: border-box;top: 0;bottom: 0;left: 50%;z-index: -1;}#sk-container-id-6 div.sk-parallel-item {display: flex;flex-direction: column;z-index: 1;position: relative;background-color: white;}#sk-container-id-6 div.sk-parallel-item:first-child::after {align-self: flex-end;width: 50%;}#sk-container-id-6 div.sk-parallel-item:last-child::after {align-self: flex-start;width: 50%;}#sk-container-id-6 div.sk-parallel-item:only-child::after {width: 0;}#sk-container-id-6 div.sk-dashed-wrapped {border: 1px dashed gray;margin: 0 0.4em 0.5em 0.4em;box-sizing: border-box;padding-bottom: 0.4em;background-color: white;}#sk-container-id-6 div.sk-label label {font-family: monospace;font-weight: bold;display: inline-block;line-height: 1.2em;}#sk-container-id-6 div.sk-label-container {text-align: center;}#sk-container-id-6 div.sk-container {/* jupyter's `normalize.less` sets `[hidden] { display: none; }` but bootstrap.min.css set `[hidden] { display: none !important; }` so we also need the `!important` here to be able to override the default hidden behavior on the sphinx rendered scikit-learn.org. See: https://github.com/scikit-learn/scikit-learn/issues/21755 */display: inline-block !important;position: relative;}#sk-container-id-6 div.sk-text-repr-fallback {display: none;}</style><div id=\"sk-container-id-6\" class=\"sk-top-container\"><div class=\"sk-text-repr-fallback\"><pre>LogisticRegression(max_iter=300, random_state=10)</pre><b>In a Jupyter environment, please rerun this cell to show the HTML representation or trust the notebook. <br />On GitHub, the HTML representation is unable to render, please try loading this page with nbviewer.org.</b></div><div class=\"sk-container\" hidden><div class=\"sk-item\"><div class=\"sk-estimator sk-toggleable\"><input class=\"sk-toggleable__control sk-hidden--visually\" id=\"sk-estimator-id-6\" type=\"checkbox\" checked><label for=\"sk-estimator-id-6\" class=\"sk-toggleable__label sk-toggleable__label-arrow\">LogisticRegression</label><div class=\"sk-toggleable__content\"><pre>LogisticRegression(max_iter=300, random_state=10)</pre></div></div></div></div></div>"
            ]
          },
          "metadata": {},
          "execution_count": 104
        }
      ]
    },
    {
      "cell_type": "code",
      "source": [
        "y_pred_test = log_reg.predict(X_test_cic)\n"
      ],
      "metadata": {
        "id": "cpcFo3SmqzBS"
      },
      "execution_count": 105,
      "outputs": []
    },
    {
      "cell_type": "code",
      "source": [
        "# Imprimir métricas de clasificación\n",
        "from sklearn.metrics import classification_report\n",
        "print(\"The Training Accuracy is: \", log_reg.score(X_train_cic, y_train_cic))\n",
        "\n",
        "# Accuracy on Test\n",
        "print(\"The Testing Accuracy is: \", log_reg.score(X_test_cic, y_test_cic))\n",
        "print(classification_report(y_test_cic, y_pred_test))"
      ],
      "metadata": {
        "colab": {
          "base_uri": "https://localhost:8080/"
        },
        "id": "MfkDgwVY1GDd",
        "outputId": "8c741271-aa3f-4a23-f3bc-191c4101c9da"
      },
      "execution_count": 106,
      "outputs": [
        {
          "output_type": "stream",
          "name": "stdout",
          "text": [
            "The Training Accuracy is:  0.96692625\n",
            "The Testing Accuracy is:  0.966185\n",
            "              precision    recall  f1-score   support\n",
            "\n",
            "           0       0.98      0.99      0.98    176068\n",
            "           1       0.89      0.81      0.85     23932\n",
            "\n",
            "    accuracy                           0.97    200000\n",
            "   macro avg       0.93      0.90      0.92    200000\n",
            "weighted avg       0.97      0.97      0.97    200000\n",
            "\n"
          ]
        }
      ]
    },
    {
      "cell_type": "code",
      "source": [
        "log_reg = LogisticRegression(random_state=10, solver = 'lbfgs', max_iter=300)\n",
        "log_reg.fit(X_train_nb15, y_train_nb15)"
      ],
      "metadata": {
        "colab": {
          "base_uri": "https://localhost:8080/",
          "height": 74
        },
        "id": "B65Qm9lxeuV9",
        "outputId": "9eda149b-28e5-4d83-d1bb-2d80fc998752"
      },
      "execution_count": 109,
      "outputs": [
        {
          "output_type": "execute_result",
          "data": {
            "text/plain": [
              "LogisticRegression(max_iter=300, random_state=10)"
            ],
            "text/html": [
              "<style>#sk-container-id-7 {color: black;background-color: white;}#sk-container-id-7 pre{padding: 0;}#sk-container-id-7 div.sk-toggleable {background-color: white;}#sk-container-id-7 label.sk-toggleable__label {cursor: pointer;display: block;width: 100%;margin-bottom: 0;padding: 0.3em;box-sizing: border-box;text-align: center;}#sk-container-id-7 label.sk-toggleable__label-arrow:before {content: \"▸\";float: left;margin-right: 0.25em;color: #696969;}#sk-container-id-7 label.sk-toggleable__label-arrow:hover:before {color: black;}#sk-container-id-7 div.sk-estimator:hover label.sk-toggleable__label-arrow:before {color: black;}#sk-container-id-7 div.sk-toggleable__content {max-height: 0;max-width: 0;overflow: hidden;text-align: left;background-color: #f0f8ff;}#sk-container-id-7 div.sk-toggleable__content pre {margin: 0.2em;color: black;border-radius: 0.25em;background-color: #f0f8ff;}#sk-container-id-7 input.sk-toggleable__control:checked~div.sk-toggleable__content {max-height: 200px;max-width: 100%;overflow: auto;}#sk-container-id-7 input.sk-toggleable__control:checked~label.sk-toggleable__label-arrow:before {content: \"▾\";}#sk-container-id-7 div.sk-estimator input.sk-toggleable__control:checked~label.sk-toggleable__label {background-color: #d4ebff;}#sk-container-id-7 div.sk-label input.sk-toggleable__control:checked~label.sk-toggleable__label {background-color: #d4ebff;}#sk-container-id-7 input.sk-hidden--visually {border: 0;clip: rect(1px 1px 1px 1px);clip: rect(1px, 1px, 1px, 1px);height: 1px;margin: -1px;overflow: hidden;padding: 0;position: absolute;width: 1px;}#sk-container-id-7 div.sk-estimator {font-family: monospace;background-color: #f0f8ff;border: 1px dotted black;border-radius: 0.25em;box-sizing: border-box;margin-bottom: 0.5em;}#sk-container-id-7 div.sk-estimator:hover {background-color: #d4ebff;}#sk-container-id-7 div.sk-parallel-item::after {content: \"\";width: 100%;border-bottom: 1px solid gray;flex-grow: 1;}#sk-container-id-7 div.sk-label:hover label.sk-toggleable__label {background-color: #d4ebff;}#sk-container-id-7 div.sk-serial::before {content: \"\";position: absolute;border-left: 1px solid gray;box-sizing: border-box;top: 0;bottom: 0;left: 50%;z-index: 0;}#sk-container-id-7 div.sk-serial {display: flex;flex-direction: column;align-items: center;background-color: white;padding-right: 0.2em;padding-left: 0.2em;position: relative;}#sk-container-id-7 div.sk-item {position: relative;z-index: 1;}#sk-container-id-7 div.sk-parallel {display: flex;align-items: stretch;justify-content: center;background-color: white;position: relative;}#sk-container-id-7 div.sk-item::before, #sk-container-id-7 div.sk-parallel-item::before {content: \"\";position: absolute;border-left: 1px solid gray;box-sizing: border-box;top: 0;bottom: 0;left: 50%;z-index: -1;}#sk-container-id-7 div.sk-parallel-item {display: flex;flex-direction: column;z-index: 1;position: relative;background-color: white;}#sk-container-id-7 div.sk-parallel-item:first-child::after {align-self: flex-end;width: 50%;}#sk-container-id-7 div.sk-parallel-item:last-child::after {align-self: flex-start;width: 50%;}#sk-container-id-7 div.sk-parallel-item:only-child::after {width: 0;}#sk-container-id-7 div.sk-dashed-wrapped {border: 1px dashed gray;margin: 0 0.4em 0.5em 0.4em;box-sizing: border-box;padding-bottom: 0.4em;background-color: white;}#sk-container-id-7 div.sk-label label {font-family: monospace;font-weight: bold;display: inline-block;line-height: 1.2em;}#sk-container-id-7 div.sk-label-container {text-align: center;}#sk-container-id-7 div.sk-container {/* jupyter's `normalize.less` sets `[hidden] { display: none; }` but bootstrap.min.css set `[hidden] { display: none !important; }` so we also need the `!important` here to be able to override the default hidden behavior on the sphinx rendered scikit-learn.org. See: https://github.com/scikit-learn/scikit-learn/issues/21755 */display: inline-block !important;position: relative;}#sk-container-id-7 div.sk-text-repr-fallback {display: none;}</style><div id=\"sk-container-id-7\" class=\"sk-top-container\"><div class=\"sk-text-repr-fallback\"><pre>LogisticRegression(max_iter=300, random_state=10)</pre><b>In a Jupyter environment, please rerun this cell to show the HTML representation or trust the notebook. <br />On GitHub, the HTML representation is unable to render, please try loading this page with nbviewer.org.</b></div><div class=\"sk-container\" hidden><div class=\"sk-item\"><div class=\"sk-estimator sk-toggleable\"><input class=\"sk-toggleable__control sk-hidden--visually\" id=\"sk-estimator-id-7\" type=\"checkbox\" checked><label for=\"sk-estimator-id-7\" class=\"sk-toggleable__label sk-toggleable__label-arrow\">LogisticRegression</label><div class=\"sk-toggleable__content\"><pre>LogisticRegression(max_iter=300, random_state=10)</pre></div></div></div></div></div>"
            ]
          },
          "metadata": {},
          "execution_count": 109
        }
      ]
    },
    {
      "cell_type": "code",
      "source": [
        "y_pred_test = log_reg.predict(X_test_nb15)\n"
      ],
      "metadata": {
        "id": "YaUMAESneukx"
      },
      "execution_count": 110,
      "outputs": []
    },
    {
      "cell_type": "code",
      "source": [
        "# Imprimir métricas de clasificación\n",
        "from sklearn.metrics import classification_report\n",
        "print(\"The Training Accuracy is: \", log_reg.score(X_train_nb15, y_train_nb15))\n",
        "\n",
        "# Accuracy on Test\n",
        "print(\"The Testing Accuracy is: \", log_reg.score(X_test_nb15, y_test_nb15))\n",
        "print(classification_report(y_test_nb15, y_pred_test))"
      ],
      "metadata": {
        "colab": {
          "base_uri": "https://localhost:8080/"
        },
        "id": "FvJS4zUxeuy-",
        "outputId": "7adb1acc-0941-4116-d245-2e3bc7c0be65"
      },
      "execution_count": 111,
      "outputs": [
        {
          "output_type": "stream",
          "name": "stdout",
          "text": [
            "The Training Accuracy is:  0.99122125\n",
            "The Testing Accuracy is:  0.99113\n",
            "              precision    recall  f1-score   support\n",
            "\n",
            "           0       1.00      0.99      1.00    192119\n",
            "           1       0.87      0.92      0.89      7881\n",
            "\n",
            "    accuracy                           0.99    200000\n",
            "   macro avg       0.93      0.96      0.94    200000\n",
            "weighted avg       0.99      0.99      0.99    200000\n",
            "\n"
          ]
        }
      ]
    },
    {
      "cell_type": "code",
      "source": [
        "log_reg = LogisticRegression(random_state=10, solver = 'lbfgs', max_iter=300)\n",
        "log_reg.fit(X_train_toniot, y_train_toniot)"
      ],
      "metadata": {
        "colab": {
          "base_uri": "https://localhost:8080/",
          "height": 220
        },
        "id": "MNY1_TtrevP-",
        "outputId": "dd8a4e8f-4d7a-44b0-ab5c-3af954780856"
      },
      "execution_count": 128,
      "outputs": [
        {
          "output_type": "stream",
          "name": "stderr",
          "text": [
            "/usr/local/lib/python3.9/dist-packages/sklearn/linear_model/_logistic.py:458: ConvergenceWarning: lbfgs failed to converge (status=1):\n",
            "STOP: TOTAL NO. of ITERATIONS REACHED LIMIT.\n",
            "\n",
            "Increase the number of iterations (max_iter) or scale the data as shown in:\n",
            "    https://scikit-learn.org/stable/modules/preprocessing.html\n",
            "Please also refer to the documentation for alternative solver options:\n",
            "    https://scikit-learn.org/stable/modules/linear_model.html#logistic-regression\n",
            "  n_iter_i = _check_optimize_result(\n"
          ]
        },
        {
          "output_type": "execute_result",
          "data": {
            "text/plain": [
              "LogisticRegression(max_iter=300, random_state=10)"
            ],
            "text/html": [
              "<style>#sk-container-id-11 {color: black;background-color: white;}#sk-container-id-11 pre{padding: 0;}#sk-container-id-11 div.sk-toggleable {background-color: white;}#sk-container-id-11 label.sk-toggleable__label {cursor: pointer;display: block;width: 100%;margin-bottom: 0;padding: 0.3em;box-sizing: border-box;text-align: center;}#sk-container-id-11 label.sk-toggleable__label-arrow:before {content: \"▸\";float: left;margin-right: 0.25em;color: #696969;}#sk-container-id-11 label.sk-toggleable__label-arrow:hover:before {color: black;}#sk-container-id-11 div.sk-estimator:hover label.sk-toggleable__label-arrow:before {color: black;}#sk-container-id-11 div.sk-toggleable__content {max-height: 0;max-width: 0;overflow: hidden;text-align: left;background-color: #f0f8ff;}#sk-container-id-11 div.sk-toggleable__content pre {margin: 0.2em;color: black;border-radius: 0.25em;background-color: #f0f8ff;}#sk-container-id-11 input.sk-toggleable__control:checked~div.sk-toggleable__content {max-height: 200px;max-width: 100%;overflow: auto;}#sk-container-id-11 input.sk-toggleable__control:checked~label.sk-toggleable__label-arrow:before {content: \"▾\";}#sk-container-id-11 div.sk-estimator input.sk-toggleable__control:checked~label.sk-toggleable__label {background-color: #d4ebff;}#sk-container-id-11 div.sk-label input.sk-toggleable__control:checked~label.sk-toggleable__label {background-color: #d4ebff;}#sk-container-id-11 input.sk-hidden--visually {border: 0;clip: rect(1px 1px 1px 1px);clip: rect(1px, 1px, 1px, 1px);height: 1px;margin: -1px;overflow: hidden;padding: 0;position: absolute;width: 1px;}#sk-container-id-11 div.sk-estimator {font-family: monospace;background-color: #f0f8ff;border: 1px dotted black;border-radius: 0.25em;box-sizing: border-box;margin-bottom: 0.5em;}#sk-container-id-11 div.sk-estimator:hover {background-color: #d4ebff;}#sk-container-id-11 div.sk-parallel-item::after {content: \"\";width: 100%;border-bottom: 1px solid gray;flex-grow: 1;}#sk-container-id-11 div.sk-label:hover label.sk-toggleable__label {background-color: #d4ebff;}#sk-container-id-11 div.sk-serial::before {content: \"\";position: absolute;border-left: 1px solid gray;box-sizing: border-box;top: 0;bottom: 0;left: 50%;z-index: 0;}#sk-container-id-11 div.sk-serial {display: flex;flex-direction: column;align-items: center;background-color: white;padding-right: 0.2em;padding-left: 0.2em;position: relative;}#sk-container-id-11 div.sk-item {position: relative;z-index: 1;}#sk-container-id-11 div.sk-parallel {display: flex;align-items: stretch;justify-content: center;background-color: white;position: relative;}#sk-container-id-11 div.sk-item::before, #sk-container-id-11 div.sk-parallel-item::before {content: \"\";position: absolute;border-left: 1px solid gray;box-sizing: border-box;top: 0;bottom: 0;left: 50%;z-index: -1;}#sk-container-id-11 div.sk-parallel-item {display: flex;flex-direction: column;z-index: 1;position: relative;background-color: white;}#sk-container-id-11 div.sk-parallel-item:first-child::after {align-self: flex-end;width: 50%;}#sk-container-id-11 div.sk-parallel-item:last-child::after {align-self: flex-start;width: 50%;}#sk-container-id-11 div.sk-parallel-item:only-child::after {width: 0;}#sk-container-id-11 div.sk-dashed-wrapped {border: 1px dashed gray;margin: 0 0.4em 0.5em 0.4em;box-sizing: border-box;padding-bottom: 0.4em;background-color: white;}#sk-container-id-11 div.sk-label label {font-family: monospace;font-weight: bold;display: inline-block;line-height: 1.2em;}#sk-container-id-11 div.sk-label-container {text-align: center;}#sk-container-id-11 div.sk-container {/* jupyter's `normalize.less` sets `[hidden] { display: none; }` but bootstrap.min.css set `[hidden] { display: none !important; }` so we also need the `!important` here to be able to override the default hidden behavior on the sphinx rendered scikit-learn.org. See: https://github.com/scikit-learn/scikit-learn/issues/21755 */display: inline-block !important;position: relative;}#sk-container-id-11 div.sk-text-repr-fallback {display: none;}</style><div id=\"sk-container-id-11\" class=\"sk-top-container\"><div class=\"sk-text-repr-fallback\"><pre>LogisticRegression(max_iter=300, random_state=10)</pre><b>In a Jupyter environment, please rerun this cell to show the HTML representation or trust the notebook. <br />On GitHub, the HTML representation is unable to render, please try loading this page with nbviewer.org.</b></div><div class=\"sk-container\" hidden><div class=\"sk-item\"><div class=\"sk-estimator sk-toggleable\"><input class=\"sk-toggleable__control sk-hidden--visually\" id=\"sk-estimator-id-11\" type=\"checkbox\" checked><label for=\"sk-estimator-id-11\" class=\"sk-toggleable__label sk-toggleable__label-arrow\">LogisticRegression</label><div class=\"sk-toggleable__content\"><pre>LogisticRegression(max_iter=300, random_state=10)</pre></div></div></div></div></div>"
            ]
          },
          "metadata": {},
          "execution_count": 128
        }
      ]
    },
    {
      "cell_type": "code",
      "source": [
        "y_pred_test = log_reg.predict(X_test_toniot)\n"
      ],
      "metadata": {
        "id": "bhJLwPSoevcx"
      },
      "execution_count": 129,
      "outputs": []
    },
    {
      "cell_type": "code",
      "source": [
        "# Imprimir métricas de clasificación\n",
        "from sklearn.metrics import classification_report\n",
        "print(\"The Training Accuracy is: \", log_reg.score(X_train_toniot, y_train_toniot))\n",
        "\n",
        "# Accuracy on Test\n",
        "print(\"The Testing Accuracy is: \", log_reg.score(X_test_toniot, y_test_toniot))\n",
        "print(classification_report(y_test_toniot, y_pred_test))"
      ],
      "metadata": {
        "colab": {
          "base_uri": "https://localhost:8080/"
        },
        "id": "uYJZU7K9evsF",
        "outputId": "b47dd04d-1187-407c-87b0-16ef098d2383"
      },
      "execution_count": 130,
      "outputs": [
        {
          "output_type": "stream",
          "name": "stdout",
          "text": [
            "The Training Accuracy is:  0.7832917126430107\n",
            "The Testing Accuracy is:  0.7855241056431149\n",
            "              precision    recall  f1-score   support\n",
            "\n",
            "           0       0.81      0.88      0.84     72105\n",
            "           1       0.73      0.62      0.67     39819\n",
            "\n",
            "    accuracy                           0.79    111924\n",
            "   macro avg       0.77      0.75      0.76    111924\n",
            "weighted avg       0.78      0.79      0.78    111924\n",
            "\n"
          ]
        }
      ]
    },
    {
      "cell_type": "markdown",
      "source": [
        "# Modelo centralizado (haciendo append de los 3 datasets) Modif_DJ\n"
      ],
      "metadata": {
        "id": "d4r9YH-8v_mq"
      }
    },
    {
      "cell_type": "code",
      "source": [
        "# Unir los tres datasets en uno solo (centralizar data)\n",
        "df_CL = pd.concat([df_cic_sampled, df_nb15_sampled, df_toniot_sampled]).reset_index(drop=True)"
      ],
      "metadata": {
        "id": "3TILxLS_v_KY"
      },
      "execution_count": null,
      "outputs": []
    },
    {
      "cell_type": "code",
      "source": [
        "corr_matrix = df_CL.corr()\n",
        "corr_with_target = corr_matrix['Label']\n",
        "\n",
        "# imprimir coeficientes de correlación ordenados de mayor a menor\n",
        "print(corr_with_target.abs().sort_values(ascending=False))"
      ],
      "metadata": {
        "colab": {
          "base_uri": "https://localhost:8080/"
        },
        "id": "GMuyo1kzwHSS",
        "outputId": "a06f8aaa-8d93-4f1d-82b3-b14349b63cff"
      },
      "execution_count": null,
      "outputs": [
        {
          "output_type": "stream",
          "name": "stdout",
          "text": [
            "Label                          1.000000\n",
            "FLOW_DURATION_MILLISECONDS     0.358211\n",
            "DURATION_OUT                   0.247715\n",
            "ICMP_IPV4_TYPE                 0.216849\n",
            "ICMP_TYPE                      0.216846\n",
            "MIN_IP_PKT_LEN                 0.179694\n",
            "TCP_WIN_MAX_IN                 0.170197\n",
            "L7_PROTO                       0.136646\n",
            "DST_TO_SRC_AVG_THROUGHPUT      0.130929\n",
            "FTP_COMMAND_RET_CODE           0.116022\n",
            "DNS_QUERY_ID                   0.097358\n",
            "SRC_TO_DST_AVG_THROUGHPUT      0.095173\n",
            "RETRANSMITTED_OUT_PKTS         0.093743\n",
            "MAX_IP_PKT_LEN                 0.077875\n",
            "LONGEST_FLOW_PKT               0.077875\n",
            "SERVER_TCP_FLAGS               0.076662\n",
            "MIN_TTL                        0.074499\n",
            "RETRANSMITTED_OUT_BYTES        0.072261\n",
            "MAX_TTL                        0.070939\n",
            "RETRANSMITTED_IN_PKTS          0.065863\n",
            "DURATION_IN                    0.045818\n",
            "TCP_WIN_MAX_OUT                0.044965\n",
            "PROTOCOL                       0.043801\n",
            "L4_SRC_PORT                    0.042911\n",
            "SHORTEST_FLOW_PKT              0.037906\n",
            "OUT_PKTS                       0.036882\n",
            "L4_DST_PORT                    0.030611\n",
            "NUM_PKTS_128_TO_256_BYTES      0.025464\n",
            "OUT_BYTES                      0.024654\n",
            "NUM_PKTS_1024_TO_1514_BYTES    0.024019\n",
            "NUM_PKTS_512_TO_1024_BYTES     0.019060\n",
            "CLIENT_TCP_FLAGS               0.011273\n",
            "NUM_PKTS_256_TO_512_BYTES      0.009239\n",
            "NUM_PKTS_UP_TO_128_BYTES       0.009008\n",
            "TCP_FLAGS                      0.006951\n",
            "RETRANSMITTED_IN_BYTES         0.006483\n",
            "DNS_QUERY_TYPE                 0.004166\n",
            "IN_PKTS                        0.003346\n",
            "DNS_TTL_ANSWER                 0.001848\n",
            "IN_BYTES                       0.000562\n",
            "DST_TO_SRC_SECOND_BYTES        0.000348\n",
            "SRC_TO_DST_SECOND_BYTES        0.000000\n",
            "Name: Label, dtype: float64\n"
          ]
        }
      ]
    },
    {
      "cell_type": "code",
      "source": [
        "features_all = [\n",
        "    \"FLOW_DURATION_MILLISECONDS\",\n",
        "    \"DURATION_OUT\",\n",
        "    \"ICMP_IPV4_TYPE\",\n",
        "    \"ICMP_TYPE\",\n",
        "    \"MIN_IP_PKT_LEN\",\n",
        "    \"TCP_WIN_MAX_IN\",\n",
        "    \"L7_PROTO\",\n",
        "    \"DST_TO_SRC_AVG_THROUGHPUT\",\n",
        "    \"FTP_COMMAND_RET_CODE\",\n",
        "    \"DNS_QUERY_ID\",\n",
        "    \"SRC_TO_DST_AVG_THROUGHPUT\",\n",
        "    \"RETRANSMITTED_OUT_PKTS\",\n",
        "    \"MAX_IP_PKT_LEN\",\n",
        "    \"LONGEST_FLOW_PKT\",\n",
        "    \"SERVER_TCP_FLAGS\",\n",
        "    \"MIN_TTL\",\n",
        "    \"RETRANSMITTED_OUT_BYTES\",\n",
        "    \"MAX_TTL\",\n",
        "    \"RETRANSMITTED_IN_PKTS\",\n",
        "    \"DURATION_IN\",\n",
        "    \"TCP_WIN_MAX_OUT\",\n",
        "    \"PROTOCOL\",\n",
        "    \"L4_SRC_PORT\",\n",
        "]\n"
      ],
      "metadata": {
        "id": "kJQ9wiDRxdde"
      },
      "execution_count": 131,
      "outputs": []
    },
    {
      "cell_type": "code",
      "source": [
        "print(\"df_cic_sampled shape:\",df_cic_sampled[feature_names_CIC].shape)\n",
        "print(\"df_nb15_sampled shape:\",df_nb15_sampled[features_names_nb15].shape)\n",
        "print(\"df_toniot_sampled shape:\",df_toniot_sampled[features_name_toniot].shape)\n",
        "print(\"df_concatenado shape:\",df_CL[features_all].shape)\n",
        "\n",
        "# X_nb15 = df_nb15_sampled.drop(['Label'], axis=1) # axis=0 se referiria a filas\n",
        "X_CL = df_CL[features_all]\n",
        "y_CL = df_CL['Label']\n",
        "\n",
        "\n",
        "print(\"\\n:\")\n",
        "# print(\"df_cic_sampled shape:\",df_CL[feature_names].shape)\n",
        "print(\"Frecuencias labels:\\n\",y_CL.value_counts())\n",
        "print(\"Distribucion labels:\\n\",y_CL.value_counts()/sum(y_CL.value_counts()))\n",
        "\n",
        "# Split data into train and test\n",
        "X_train_CL, X_test_CL, y_train_CL, y_test_CL = train_test_split(X_CL, y_CL,shuffle=True, test_size=0.2, random_state=42)\n",
        "\n",
        "scaler.fit(X_train_CL)\n",
        "X_train_CL = scaler.transform(X_train_CL)\n",
        "X_test_CL = scaler.transform(X_test_CL)\n",
        "\n",
        "print(\"\\n:\")\n",
        "print(\"X Train shape:\",X_train_CL.shape)\n",
        "print(\"Y Train shape:\",y_train_CL.shape)\n",
        "print(\"X Test shape:\",X_test_CL.shape)\n",
        "print(\"Y Test shape:\",y_test_CL.shape)"
      ],
      "metadata": {
        "colab": {
          "base_uri": "https://localhost:8080/"
        },
        "id": "sC2kd96iwHgi",
        "outputId": "46223b60-6c67-4a6a-c68e-a207315b3e2a"
      },
      "execution_count": 137,
      "outputs": [
        {
          "output_type": "stream",
          "name": "stdout",
          "text": [
            "df_cic_sampled shape: (1000000, 22)\n",
            "df_nb15_sampled shape: (1000000, 22)\n",
            "df_toniot_sampled shape: (559618, 22)\n",
            "df_concatenado shape: (3000000, 23)\n",
            "\n",
            ":\n",
            "Frecuencias labels:\n",
            " 0    2200319\n",
            "1     799681\n",
            "Name: Label, dtype: int64\n",
            "Distribucion labels:\n",
            " 0    0.73344\n",
            "1    0.26656\n",
            "Name: Label, dtype: float64\n",
            "\n",
            ":\n",
            "X Train shape: (2400000, 23)\n",
            "Y Train shape: (2400000,)\n",
            "X Test shape: (600000, 23)\n",
            "Y Test shape: (600000,)\n"
          ]
        }
      ]
    },
    {
      "cell_type": "code",
      "source": [
        "log_reg_CL = LogisticRegression(random_state=10, solver = 'lbfgs', max_iter=300)\n",
        "log_reg_CL.fit(X_train_CL, y_train_CL)\n",
        "\n",
        "# Predecir en test\n",
        "y_pred_test = log_reg_CL.predict(X_test_CL)"
      ],
      "metadata": {
        "id": "ZN6sfDWPyQiG",
        "colab": {
          "base_uri": "https://localhost:8080/"
        },
        "outputId": "cc2ec55a-5e71-4a45-a691-3570aa43829e"
      },
      "execution_count": 138,
      "outputs": [
        {
          "output_type": "stream",
          "name": "stderr",
          "text": [
            "/usr/local/lib/python3.9/dist-packages/sklearn/linear_model/_logistic.py:458: ConvergenceWarning: lbfgs failed to converge (status=1):\n",
            "STOP: TOTAL NO. of ITERATIONS REACHED LIMIT.\n",
            "\n",
            "Increase the number of iterations (max_iter) or scale the data as shown in:\n",
            "    https://scikit-learn.org/stable/modules/preprocessing.html\n",
            "Please also refer to the documentation for alternative solver options:\n",
            "    https://scikit-learn.org/stable/modules/linear_model.html#logistic-regression\n",
            "  n_iter_i = _check_optimize_result(\n"
          ]
        }
      ]
    },
    {
      "cell_type": "code",
      "source": [
        "# Imprimir métricas de clasificación\n",
        "print(\"The Training Accuracy is: \", log_reg_CL.score(X_train_CL, y_train_CL))\n",
        "\n",
        "# Accuracy on Test\n",
        "print(\"The Testing Accuracy is: \", log_reg_CL.score(X_test_CL, y_test_CL))\n",
        "print(classification_report(y_test_CL, y_pred_test))"
      ],
      "metadata": {
        "colab": {
          "base_uri": "https://localhost:8080/"
        },
        "id": "ne_-2flSySiZ",
        "outputId": "941e0738-e249-45c6-e40f-64eebbcff5d9"
      },
      "execution_count": 139,
      "outputs": [
        {
          "output_type": "stream",
          "name": "stdout",
          "text": [
            "The Training Accuracy is:  0.78142625\n",
            "The Testing Accuracy is:  0.7818166666666667\n",
            "              precision    recall  f1-score   support\n",
            "\n",
            "           0       0.79      0.95      0.86    440090\n",
            "           1       0.70      0.32      0.44    159910\n",
            "\n",
            "    accuracy                           0.78    600000\n",
            "   macro avg       0.75      0.63      0.65    600000\n",
            "weighted avg       0.77      0.78      0.75    600000\n",
            "\n"
          ]
        }
      ]
    },
    {
      "cell_type": "code",
      "source": [
        "from sklearn.metrics import accuracy_score, precision_score, recall_score, f1_score\n",
        "from sklearn.metrics import log_loss\n",
        "\n",
        "def test_model(model, X_test, Y_test):\n",
        "    loss = log_loss(Y_test, model.predict_proba(X_test))\n",
        "    y_pred = model.predict(X_test_CL)\n",
        "    acc = accuracy_score(y_pred, Y_test)\n",
        "    pre = precision_score(y_pred, Y_test, average='weighted',zero_division = 0)\n",
        "    rec = recall_score(y_pred, Y_test, average='weighted',zero_division = 0)\n",
        "    f1s = f1_score(y_pred, Y_test, average='weighted',zero_division = 0)\n",
        "\n",
        "    return loss, acc, pre, rec, f1s\n",
        "\n",
        "global_loss_test, global_acc_test, global_pre_test, global_rec_test, global_f1s_test = test_model(log_reg_CL, X_test_CL, y_test_CL)\n",
        "\n",
        "print(\"\\n\\nFINAL RESULTS: ===========================================================================================================================================================================================\")\n",
        "print('Test: global_acc: {:} | global_pre: {} | global_rec: {} | global_f1s: {}'.format(global_acc_test, global_pre_test, global_rec_test, global_f1s_test))"
      ],
      "metadata": {
        "colab": {
          "base_uri": "https://localhost:8080/"
        },
        "id": "HZA5mgKXyWGd",
        "outputId": "a7afad12-c4a7-4ecf-ca5f-2cf1a7b34e3e"
      },
      "execution_count": 140,
      "outputs": [
        {
          "output_type": "stream",
          "name": "stdout",
          "text": [
            "\n",
            "\n",
            "FINAL RESULTS: ===========================================================================================================================================================================================\n",
            "Test: global_acc: 0.7818166666666667 | global_pre: 0.87288848686439 | global_rec: 0.7818166666666667 | global_f1s: 0.8126101086343206\n"
          ]
        }
      ]
    },
    {
      "cell_type": "markdown",
      "source": [
        "# Modelo federado"
      ],
      "metadata": {
        "id": "eYeueUpuP-P_"
      }
    },
    {
      "cell_type": "markdown",
      "source": [
        "## Definimos la función para cliente (tutorial flwr scikit-learn)"
      ],
      "metadata": {
        "id": "yJLjrv2lQCuf"
      }
    },
    {
      "cell_type": "code",
      "source": [
        "from typing import Tuple, Union, List\n",
        "import numpy as np\n",
        "from sklearn.linear_model import LogisticRegression\n",
        "\n",
        "#  define varios tipos de datos personalizados en Python utilizando la biblioteca NumPy\n",
        "XY = Tuple[np.ndarray, np.ndarray]\n",
        "Dataset = Tuple[XY, XY]\n",
        "LogRegParams = Union[XY, Tuple[np.ndarray]] # puede ser o un XY o un solo array\n",
        "XYList = List[XY]\n",
        "\n",
        "# Función recibe un modelo de regresión logística como entrada y devuelve los parámetros del modelo: coeficientes e intercepción\n",
        "def get_model_parameters(model: LogisticRegression) -> LogRegParams:\n",
        "    \"\"\"Returns the paramters of a sklearn LogisticRegression model.\"\"\"\n",
        "    if model.fit_intercept:\n",
        "        params = [\n",
        "            model.coef_,\n",
        "            model.intercept_,\n",
        "        ]\n",
        "    else:\n",
        "        params = [\n",
        "            model.coef_,\n",
        "        ]\n",
        "    return params\n",
        "\n",
        "# Actualiza el modelo con los nuevos parámetros\n",
        "def set_model_params(\n",
        "    model: LogisticRegression, params: LogRegParams\n",
        ") -> LogisticRegression:\n",
        "    \"\"\"Sets the parameters of a sklean LogisticRegression model. los coeficientes b1,b2... y la intercep b0\"\"\"\n",
        "    model.coef_ = params[0]\n",
        "    if model.fit_intercept:\n",
        "        model.intercept_ = params[1]\n",
        "    return model\n",
        "\n",
        "# Establece los parámetros iniciales del modelo de regresión logística como ceros, necesarios ya que los parámetros del modelo no se \n",
        "# inicializan hasta que se llama a la función fit\n",
        "def set_initial_params(model: LogisticRegression):\n",
        "    \"\"\"Sets initial parameters as zeros Required since model params are\n",
        "    uninitialized until model.fit is called.\n",
        "\n",
        "    But server asks for initial parameters from clients at launch. Refer\n",
        "    to sklearn.linear_model.LogisticRegression documentation for more\n",
        "    information.\n",
        "    \"\"\"\n",
        "    n_classes = 2  \n",
        "    n_features = 22  # Number of features in dataset\n",
        "    model.classes_ = np.array([i for i in range(2)])\n",
        "\n",
        "    model.coef_ = np.zeros((n_classes, n_features))\n",
        "    if model.fit_intercept:\n",
        "        model.intercept_ = np.zeros((n_classes,))\n",
        "\n",
        "\n",
        "\n",
        "\n"
      ],
      "metadata": {
        "id": "Suy8VLdYVRi7"
      },
      "execution_count": null,
      "outputs": []
    },
    {
      "cell_type": "code",
      "source": [
        "# Definimos la clase para cada cliente\n",
        "class FlowerClient(fl.client.NumPyClient):\n",
        "    def __init__(self, cid, model, x_train, y_train, x_test, y_test) -> None:\n",
        "        self.model = model\n",
        "        self.cid = cid\n",
        "        self.x_train, self.y_train = x_train, y_train\n",
        "        self.x_test, self.y_test = x_test, y_test\n",
        "\n",
        "    def get_parameters(self, config):\n",
        "        print(f\"[Client {self.cid}] GET_PARAMETERS\")\n",
        "        return get_model_parameters(self.model)\n",
        "\n",
        "    def fit(self, parameters, config):\n",
        "        print(f\"[Client {self.cid}] FIT\")\n",
        "        set_model_params(self.model, parameters)\n",
        "        with warnings.catch_warnings():\n",
        "            warnings.simplefilter(\"ignore\")\n",
        "            self.model.fit(self.x_train, self.y_train)\n",
        "        # print(f\"Training finished for round {config['server_round']}\")\n",
        "        return get_model_parameters(self.model), len(self.x_train), {}\n",
        "\n",
        "    def evaluate(self, parameters, config):\n",
        "        print(f\"[Client {self.cid}] EVALUATE\")\n",
        "        y_test_pred = self.model.predict_proba(self.x_test)\n",
        "        set_model_params(self.model, parameters)\n",
        "        loss = log_loss(self.y_test, y_test_pred)\n",
        "        accuracy = self.model.score(self.x_test, self.y_test)\n",
        "        print(f\"Loss: {loss}, Accuracy: {accuracy} de {self.cid}\")\n",
        "        return loss, len(self.x_test), {\"accuracy\": accuracy}"
      ],
      "metadata": {
        "id": "91I368IxKtS0"
      },
      "execution_count": null,
      "outputs": []
    },
    {
      "cell_type": "markdown",
      "source": [
        "## Define model and data partition for each client"
      ],
      "metadata": {
        "id": "-krM8KZXQH9b"
      }
    },
    {
      "cell_type": "code",
      "source": [
        "# Definir lista con datasets por cada cliente\n",
        "client_datasets = [\n",
        "  (X_train_cic, y_train_cic),\n",
        "  (X_train_nb15, y_train_nb15),\n",
        "  (X_train_toniot, y_train_toniot),\n",
        "] \n",
        "\n",
        "# Función para definir el modelo y la partición de los datasets \n",
        "# en nuestro caso 1 dataset por cliente\n",
        "def client_fn(cid: str) -> fl.client.Client:\n",
        "    # Creamos modelo\n",
        "    # Los datos de entrada son 22 características, todos escalares\n",
        "    # Create LogisticRegression Model\n",
        "    model = LogisticRegression(random_state=10, solver = 'lbfgs', max_iter=300, warm_start=True)\n",
        "\n",
        "    set_initial_params(model)\n",
        "\n",
        "    # Selecciona el conjunto de datos para el cliente específico\n",
        "    print(f\"Cliente: {int(cid)} DEFINIDO EL MODELO Y DATASET\")\n",
        "    full_X_train_cid, full_y_train_cid = client_datasets[int(cid)]\n",
        "\n",
        "    # Utiliza el 10% de los datos de entrenamiento del cliente para validación\n",
        "    split_idx = math.floor(len(full_X_train_cid) * 0.9)\n",
        "    X_train_cid, y_train_cid = full_X_train_cid[:split_idx], full_y_train_cid[:split_idx]\n",
        "    X_val_cid, y_val_cid = full_X_train_cid[split_idx:], full_y_train_cid[split_idx:]\n",
        "\n",
        "    # model.compile(loss='binary_crossentropy', optimizer='adam', metrics=['accuracy'])\n",
        "\n",
        "    # Crea y devuelve el cliente\n",
        "    return FlowerClient(cid, model, X_train_cid, y_train_cid, X_val_cid, y_val_cid)\n",
        "\n",
        "\n",
        "\n",
        "    #model.compile(optimizer='adam',loss='binary_crossentropy',metrics=['accuracy'])\n",
        "\n",
        "    # Dataset federation (divide original data in desired clients)\n",
        "    # Load data partition (divide dataset into NUM_CLIENTS distinct partitions)\n",
        "      \n",
        "    # partition_size = math.floor(len(X_train) / NUM_CLIENTS)\n",
        "    # idx_from, idx_to = int(cid) * partition_size, (int(cid) + 1) * partition_size\n",
        "    # full_X_train_cid = X_train[idx_from:idx_to]\n",
        "    # full_y_train_cid = y_train[idx_from:idx_to]\n",
        "\n",
        "    # # Use 10% of the client's training data for validation\n",
        "    # split_idx = math.floor(len(full_X_train_cid) * 0.9)\n",
        "    # X_train_cid, y_train_cid = full_X_train_cid[:split_idx], full_y_train_cid[:split_idx]\n",
        "    # X_val_cid, y_val_cid = full_X_train_cid[split_idx:], full_y_train_cid[split_idx:]\n",
        "\n",
        "    # Create and return client\n",
        "    # return FlowerClient(model, X_train_cid, y_train_cid, X_val_cid, y_val_cid)\n",
        "\n"
      ],
      "metadata": {
        "id": "FmAo-CauQKYr"
      },
      "execution_count": null,
      "outputs": []
    },
    {
      "cell_type": "markdown",
      "source": [
        "## Define strategy and fit FL"
      ],
      "metadata": {
        "id": "hQ1SBevmQQhT"
      }
    },
    {
      "cell_type": "code",
      "source": [
        "def fit_round(server_round: int) -> Dict:\n",
        "    \"\"\"Send round number to client.\"\"\"\n",
        "    return {\"server_round\": server_round}\n",
        "\n"
      ],
      "metadata": {
        "id": "in0hsKg7el2U"
      },
      "execution_count": null,
      "outputs": []
    },
    {
      "cell_type": "code",
      "source": [
        "# The `evaluate` function will be by Flower called after every round\n",
        "def evaluate_REGLOG_CL(\n",
        "    server_round: int,\n",
        "    parameters: fl.common.NDArrays,\n",
        "    config: Dict[str, fl.common.Scalar],\n",
        ") -> Optional[Tuple[float, Dict[str, fl.common.Scalar]]]:\n",
        "    net = LogisticRegression(solver = 'lbfgs', max_iter=1, warm_start=True)\n",
        "    \n",
        "    set_initial_params(net) # First initialize parameters\n",
        "    set_model_params(net, parameters) # Update model with the latest parameters\n",
        "    loss, accuracy, precision, recall, f1score  = test_model(net, X_test_CL, y_test_CL)\n",
        "    print(f\"@@@@@@ Server-side evaluation loss {loss} / accuracy {accuracy} / f1score {f1score} @@@@@@\")\n",
        "    return loss, {\"accuracy\": accuracy,\"precision\": precision,\"recall\": recall,\"f1score\": f1score}\n",
        "\n",
        "def retrieve_global_metrics(\n",
        "    hist: None,\n",
        "    metric_type: None,\n",
        "    metric: None,\n",
        "    best_metric: None,\n",
        ") -> None:\n",
        "    \"\"\"Function to plot from Flower server History.\n",
        "    Parameters\n",
        "    ----------\n",
        "    hist : History\n",
        "        Object containing evaluation for all rounds.\n",
        "    metric_type : Literal[\"centralized\", \"distributed\"]\n",
        "        Type of metric to retrieve.\n",
        "    metric : Literal[\"accuracy\",\"precision\",\"recall\",\"f1score\"]\n",
        "        Metric to retrieve.\n",
        "    \"\"\"\n",
        "    metric_dict = (\n",
        "        hist.metrics_centralized\n",
        "        if metric_type == \"centralized\"\n",
        "        else hist.metrics_distributed\n",
        "    )\n",
        "    rounds, values = zip(*metric_dict[metric])\n",
        "    if best_metric:\n",
        "      metric_return = max(values)\n",
        "    else:\n",
        "      metric_return = values[-1]\n",
        "    return metric_return"
      ],
      "metadata": {
        "id": "OlWUL0qI39Rj"
      },
      "execution_count": null,
      "outputs": []
    },
    {
      "cell_type": "code",
      "source": [
        "NUM_CLIENTS=3\n",
        "comms_round=5 #Modif_DJ\n",
        "\n",
        "# Create FedAvg strategy\n",
        "strategy=fl.server.strategy.FedAvg(\n",
        "        min_fit_clients=3,  # Never sample less than 10 clients for training\n",
        "        min_evaluate_clients=3,  # Never sample less than 5 clients for evaluation\n",
        "        min_available_clients=3,  # Wait until at least 75 clients are available\n",
        "        # on_fit_config_fn=fit_round,\n",
        "        evaluate_fn=evaluate_REGLOG_CL, # Modif_DJ\n",
        "    \n",
        ")\n",
        "\n",
        "start_time = time.time()\n",
        "# Start simulation of the federated learning process\n",
        "history = fl.simulation.start_simulation(\n",
        "    client_fn=client_fn,\n",
        "    num_clients=NUM_CLIENTS,\n",
        "    config=fl.server.ServerConfig(num_rounds=comms_round), #Modif_DJ\n",
        "    strategy=strategy,\n",
        ")\n",
        "\n",
        "# Get total training time\n",
        "training_time = time.time() - start_time\n",
        "print(\"Training time: %s seconds\" % (training_time))"
      ],
      "metadata": {
        "colab": {
          "base_uri": "https://localhost:8080/"
        },
        "id": "bFvCEOE9QN-1",
        "outputId": "e6ed90f5-b900-430c-85ad-3fb556e9e8cc"
      },
      "execution_count": null,
      "outputs": [
        {
          "output_type": "stream",
          "name": "stderr",
          "text": [
            "INFO flwr 2023-04-16 09:09:55,963 | app.py:145 | Starting Flower simulation, config: ServerConfig(num_rounds=5, round_timeout=None)\n",
            "INFO:flwr:Starting Flower simulation, config: ServerConfig(num_rounds=5, round_timeout=None)\n",
            "2023-04-16 09:09:57,568\tINFO worker.py:1529 -- Started a local Ray instance. View the dashboard at \u001b[1m\u001b[32m127.0.0.1:8265 \u001b[39m\u001b[22m\n",
            "INFO flwr 2023-04-16 09:09:59,959 | app.py:179 | Flower VCE: Ray initialized with resources: {'memory': 22332265268.0, 'object_store_memory': 11166132633.0, 'CPU': 40.0, 'node:172.28.0.12': 1.0}\n",
            "INFO:flwr:Flower VCE: Ray initialized with resources: {'memory': 22332265268.0, 'object_store_memory': 11166132633.0, 'CPU': 40.0, 'node:172.28.0.12': 1.0}\n",
            "INFO flwr 2023-04-16 09:09:59,963 | server.py:86 | Initializing global parameters\n",
            "INFO:flwr:Initializing global parameters\n",
            "INFO flwr 2023-04-16 09:09:59,967 | server.py:270 | Requesting initial parameters from one random client\n",
            "INFO:flwr:Requesting initial parameters from one random client\n",
            "INFO flwr 2023-04-16 09:10:00,899 | server.py:274 | Received initial parameters from one random client\n",
            "INFO:flwr:Received initial parameters from one random client\n",
            "INFO flwr 2023-04-16 09:10:00,901 | server.py:88 | Evaluating initial parameters\n",
            "INFO:flwr:Evaluating initial parameters\n",
            "INFO flwr 2023-04-16 09:10:00,903 | server.py:101 | FL starting\n",
            "INFO:flwr:FL starting\n",
            "DEBUG flwr 2023-04-16 09:10:00,905 | server.py:215 | fit_round 1: strategy sampled 3 clients (out of 3)\n",
            "DEBUG:flwr:fit_round 1: strategy sampled 3 clients (out of 3)\n"
          ]
        },
        {
          "output_type": "stream",
          "name": "stdout",
          "text": [
            "\u001b[2m\u001b[36m(launch_and_get_parameters pid=15668)\u001b[0m Cliente: 0 DEFINIDO EL MODELO Y DATASET\n",
            "\u001b[2m\u001b[36m(launch_and_get_parameters pid=15668)\u001b[0m [Client 0] GET_PARAMETERS\n",
            "\u001b[2m\u001b[36m(launch_and_fit pid=15668)\u001b[0m Cliente: 2 DEFINIDO EL MODELO Y DATASET\n",
            "\u001b[2m\u001b[36m(launch_and_fit pid=15668)\u001b[0m [Client 2] FIT\n",
            "\u001b[2m\u001b[36m(launch_and_fit pid=15688)\u001b[0m Cliente: 1 DEFINIDO EL MODELO Y DATASET\n",
            "\u001b[2m\u001b[36m(launch_and_fit pid=15688)\u001b[0m [Client 1] FIT\n",
            "\u001b[2m\u001b[36m(launch_and_fit pid=15681)\u001b[0m Cliente: 0 DEFINIDO EL MODELO Y DATASET\n",
            "\u001b[2m\u001b[36m(launch_and_fit pid=15681)\u001b[0m [Client 0] FIT\n"
          ]
        },
        {
          "output_type": "stream",
          "name": "stderr",
          "text": [
            "DEBUG flwr 2023-04-16 09:10:21,762 | server.py:229 | fit_round 1 received 3 results and 0 failures\n",
            "DEBUG:flwr:fit_round 1 received 3 results and 0 failures\n",
            "WARNING flwr 2023-04-16 09:10:21,774 | fedavg.py:242 | No fit_metrics_aggregation_fn provided\n",
            "WARNING:flwr:No fit_metrics_aggregation_fn provided\n",
            "DEBUG flwr 2023-04-16 09:10:21,784 | server.py:165 | evaluate_round 1: strategy sampled 3 clients (out of 3)\n",
            "DEBUG:flwr:evaluate_round 1: strategy sampled 3 clients (out of 3)\n",
            "\u001b[2m\u001b[36m(launch_and_evaluate pid=15668)\u001b[0m /usr/local/lib/python3.9/dist-packages/sklearn/base.py:432: UserWarning: X has feature names, but LogisticRegression was fitted without feature names\n",
            "\u001b[2m\u001b[36m(launch_and_evaluate pid=15668)\u001b[0m   warnings.warn(\n",
            "\u001b[2m\u001b[36m(launch_and_evaluate pid=15668)\u001b[0m /usr/local/lib/python3.9/dist-packages/sklearn/base.py:432: UserWarning: X has feature names, but LogisticRegression was fitted without feature names\n",
            "\u001b[2m\u001b[36m(launch_and_evaluate pid=15668)\u001b[0m   warnings.warn(\n",
            "\u001b[2m\u001b[36m(launch_and_evaluate pid=15681)\u001b[0m /usr/local/lib/python3.9/dist-packages/sklearn/base.py:432: UserWarning: X has feature names, but LogisticRegression was fitted without feature names\n",
            "\u001b[2m\u001b[36m(launch_and_evaluate pid=15681)\u001b[0m   warnings.warn(\n",
            "\u001b[2m\u001b[36m(launch_and_evaluate pid=15688)\u001b[0m /usr/local/lib/python3.9/dist-packages/sklearn/base.py:432: UserWarning: X has feature names, but LogisticRegression was fitted without feature names\n",
            "\u001b[2m\u001b[36m(launch_and_evaluate pid=15688)\u001b[0m   warnings.warn(\n"
          ]
        },
        {
          "output_type": "stream",
          "name": "stdout",
          "text": [
            "\u001b[2m\u001b[36m(launch_and_evaluate pid=15668)\u001b[0m Cliente: 0 DEFINIDO EL MODELO Y DATASET\n",
            "\u001b[2m\u001b[36m(launch_and_evaluate pid=15668)\u001b[0m [Client 0] EVALUATE\n",
            "\u001b[2m\u001b[36m(launch_and_evaluate pid=15668)\u001b[0m Loss: 0.6931471805599452, Accuracy: 0.4891002309107276 de 0\n",
            "\u001b[2m\u001b[36m(launch_and_evaluate pid=15681)\u001b[0m Cliente: 1 DEFINIDO EL MODELO Y DATASET\n",
            "\u001b[2m\u001b[36m(launch_and_evaluate pid=15681)\u001b[0m [Client 1] EVALUATE\n",
            "\u001b[2m\u001b[36m(launch_and_evaluate pid=15688)\u001b[0m Cliente: 2 DEFINIDO EL MODELO Y DATASET\n",
            "\u001b[2m\u001b[36m(launch_and_evaluate pid=15688)\u001b[0m [Client 2] EVALUATE\n"
          ]
        },
        {
          "output_type": "stream",
          "name": "stderr",
          "text": [
            "\u001b[2m\u001b[36m(launch_and_evaluate pid=15681)\u001b[0m /usr/local/lib/python3.9/dist-packages/sklearn/base.py:432: UserWarning: X has feature names, but LogisticRegression was fitted without feature names\n",
            "\u001b[2m\u001b[36m(launch_and_evaluate pid=15681)\u001b[0m   warnings.warn(\n",
            "\u001b[2m\u001b[36m(launch_and_evaluate pid=15688)\u001b[0m /usr/local/lib/python3.9/dist-packages/sklearn/base.py:432: UserWarning: X has feature names, but LogisticRegression was fitted without feature names\n",
            "\u001b[2m\u001b[36m(launch_and_evaluate pid=15688)\u001b[0m   warnings.warn(\n",
            "DEBUG flwr 2023-04-16 09:10:22,423 | server.py:179 | evaluate_round 1 received 3 results and 0 failures\n",
            "DEBUG:flwr:evaluate_round 1 received 3 results and 0 failures\n",
            "WARNING flwr 2023-04-16 09:10:22,426 | fedavg.py:273 | No evaluate_metrics_aggregation_fn provided\n",
            "WARNING:flwr:No evaluate_metrics_aggregation_fn provided\n",
            "DEBUG flwr 2023-04-16 09:10:22,429 | server.py:215 | fit_round 2: strategy sampled 3 clients (out of 3)\n",
            "DEBUG:flwr:fit_round 2: strategy sampled 3 clients (out of 3)\n"
          ]
        },
        {
          "output_type": "stream",
          "name": "stdout",
          "text": [
            "\u001b[2m\u001b[36m(launch_and_evaluate pid=15681)\u001b[0m Loss: 0.6931471805599453, Accuracy: 0.1787016776075857 de 1\n",
            "\u001b[2m\u001b[36m(launch_and_evaluate pid=15688)\u001b[0m Loss: 0.6931471805599453, Accuracy: 0.7679046868260178 de 2\n",
            "\u001b[2m\u001b[36m(launch_and_fit pid=15688)\u001b[0m Cliente: 2 DEFINIDO EL MODELO Y DATASET\n",
            "\u001b[2m\u001b[36m(launch_and_fit pid=15688)\u001b[0m [Client 2] FIT\n",
            "\u001b[2m\u001b[36m(launch_and_fit pid=15668)\u001b[0m Cliente: 1 DEFINIDO EL MODELO Y DATASET\n",
            "\u001b[2m\u001b[36m(launch_and_fit pid=15668)\u001b[0m [Client 1] FIT\n",
            "\u001b[2m\u001b[36m(launch_and_fit pid=15681)\u001b[0m Cliente: 0 DEFINIDO EL MODELO Y DATASET\n",
            "\u001b[2m\u001b[36m(launch_and_fit pid=15681)\u001b[0m [Client 0] FIT\n"
          ]
        },
        {
          "output_type": "stream",
          "name": "stderr",
          "text": [
            "DEBUG flwr 2023-04-16 09:10:38,252 | server.py:229 | fit_round 2 received 3 results and 0 failures\n",
            "DEBUG:flwr:fit_round 2 received 3 results and 0 failures\n",
            "DEBUG flwr 2023-04-16 09:10:38,261 | server.py:165 | evaluate_round 2: strategy sampled 3 clients (out of 3)\n",
            "DEBUG:flwr:evaluate_round 2: strategy sampled 3 clients (out of 3)\n",
            "\u001b[2m\u001b[36m(launch_and_evaluate pid=15668)\u001b[0m /usr/local/lib/python3.9/dist-packages/sklearn/base.py:432: UserWarning: X has feature names, but LogisticRegression was fitted without feature names\n",
            "\u001b[2m\u001b[36m(launch_and_evaluate pid=15668)\u001b[0m   warnings.warn(\n",
            "\u001b[2m\u001b[36m(launch_and_evaluate pid=15681)\u001b[0m /usr/local/lib/python3.9/dist-packages/sklearn/base.py:432: UserWarning: X has feature names, but LogisticRegression was fitted without feature names\n",
            "\u001b[2m\u001b[36m(launch_and_evaluate pid=15681)\u001b[0m   warnings.warn(\n",
            "\u001b[2m\u001b[36m(launch_and_evaluate pid=15688)\u001b[0m /usr/local/lib/python3.9/dist-packages/sklearn/base.py:432: UserWarning: X has feature names, but LogisticRegression was fitted without feature names\n",
            "\u001b[2m\u001b[36m(launch_and_evaluate pid=15688)\u001b[0m   warnings.warn(\n",
            "\u001b[2m\u001b[36m(launch_and_evaluate pid=15688)\u001b[0m /usr/local/lib/python3.9/dist-packages/sklearn/base.py:432: UserWarning: X has feature names, but LogisticRegression was fitted without feature names\n",
            "\u001b[2m\u001b[36m(launch_and_evaluate pid=15688)\u001b[0m   warnings.warn(\n"
          ]
        },
        {
          "output_type": "stream",
          "name": "stdout",
          "text": [
            "\u001b[2m\u001b[36m(launch_and_evaluate pid=15668)\u001b[0m Cliente: 2 DEFINIDO EL MODELO Y DATASET\n",
            "\u001b[2m\u001b[36m(launch_and_evaluate pid=15668)\u001b[0m [Client 2] EVALUATE\n",
            "\u001b[2m\u001b[36m(launch_and_evaluate pid=15681)\u001b[0m Cliente: 1 DEFINIDO EL MODELO Y DATASET\n",
            "\u001b[2m\u001b[36m(launch_and_evaluate pid=15681)\u001b[0m [Client 1] EVALUATE\n",
            "\u001b[2m\u001b[36m(launch_and_evaluate pid=15688)\u001b[0m Cliente: 0 DEFINIDO EL MODELO Y DATASET\n",
            "\u001b[2m\u001b[36m(launch_and_evaluate pid=15688)\u001b[0m [Client 0] EVALUATE\n",
            "\u001b[2m\u001b[36m(launch_and_evaluate pid=15688)\u001b[0m Loss: 0.6931471805599452, Accuracy: 0.5036593479707252 de 0\n"
          ]
        },
        {
          "output_type": "stream",
          "name": "stderr",
          "text": [
            "\u001b[2m\u001b[36m(launch_and_evaluate pid=15668)\u001b[0m /usr/local/lib/python3.9/dist-packages/sklearn/base.py:432: UserWarning: X has feature names, but LogisticRegression was fitted without feature names\n",
            "\u001b[2m\u001b[36m(launch_and_evaluate pid=15668)\u001b[0m   warnings.warn(\n",
            "\u001b[2m\u001b[36m(launch_and_evaluate pid=15681)\u001b[0m /usr/local/lib/python3.9/dist-packages/sklearn/base.py:432: UserWarning: X has feature names, but LogisticRegression was fitted without feature names\n",
            "\u001b[2m\u001b[36m(launch_and_evaluate pid=15681)\u001b[0m   warnings.warn(\n",
            "DEBUG flwr 2023-04-16 09:10:38,868 | server.py:179 | evaluate_round 2 received 3 results and 0 failures\n",
            "DEBUG:flwr:evaluate_round 2 received 3 results and 0 failures\n",
            "DEBUG flwr 2023-04-16 09:10:38,872 | server.py:215 | fit_round 3: strategy sampled 3 clients (out of 3)\n",
            "DEBUG:flwr:fit_round 3: strategy sampled 3 clients (out of 3)\n"
          ]
        },
        {
          "output_type": "stream",
          "name": "stdout",
          "text": [
            "\u001b[2m\u001b[36m(launch_and_evaluate pid=15681)\u001b[0m Loss: 0.6931471805599453, Accuracy: 0.17844117953527144 de 1\n",
            "\u001b[2m\u001b[36m(launch_and_evaluate pid=15668)\u001b[0m Loss: 0.6931471805599453, Accuracy: 0.7684847763680445 de 2\n",
            "\u001b[2m\u001b[36m(launch_and_fit pid=15668)\u001b[0m Cliente: 2 DEFINIDO EL MODELO Y DATASET\n",
            "\u001b[2m\u001b[36m(launch_and_fit pid=15668)\u001b[0m [Client 2] FIT\n",
            "\u001b[2m\u001b[36m(launch_and_fit pid=15681)\u001b[0m Cliente: 0 DEFINIDO EL MODELO Y DATASET\n",
            "\u001b[2m\u001b[36m(launch_and_fit pid=15681)\u001b[0m [Client 0] FIT\n",
            "\u001b[2m\u001b[36m(launch_and_fit pid=15688)\u001b[0m Cliente: 1 DEFINIDO EL MODELO Y DATASET\n",
            "\u001b[2m\u001b[36m(launch_and_fit pid=15688)\u001b[0m [Client 1] FIT\n"
          ]
        },
        {
          "output_type": "stream",
          "name": "stderr",
          "text": [
            "DEBUG flwr 2023-04-16 09:10:57,601 | server.py:229 | fit_round 3 received 3 results and 0 failures\n",
            "DEBUG:flwr:fit_round 3 received 3 results and 0 failures\n",
            "DEBUG flwr 2023-04-16 09:10:57,610 | server.py:165 | evaluate_round 3: strategy sampled 3 clients (out of 3)\n",
            "DEBUG:flwr:evaluate_round 3: strategy sampled 3 clients (out of 3)\n",
            "\u001b[2m\u001b[36m(launch_and_evaluate pid=15668)\u001b[0m /usr/local/lib/python3.9/dist-packages/sklearn/base.py:432: UserWarning: X has feature names, but LogisticRegression was fitted without feature names\n",
            "\u001b[2m\u001b[36m(launch_and_evaluate pid=15668)\u001b[0m   warnings.warn(\n",
            "\u001b[2m\u001b[36m(launch_and_evaluate pid=15681)\u001b[0m /usr/local/lib/python3.9/dist-packages/sklearn/base.py:432: UserWarning: X has feature names, but LogisticRegression was fitted without feature names\n",
            "\u001b[2m\u001b[36m(launch_and_evaluate pid=15681)\u001b[0m   warnings.warn(\n",
            "\u001b[2m\u001b[36m(launch_and_evaluate pid=15688)\u001b[0m /usr/local/lib/python3.9/dist-packages/sklearn/base.py:432: UserWarning: X has feature names, but LogisticRegression was fitted without feature names\n",
            "\u001b[2m\u001b[36m(launch_and_evaluate pid=15688)\u001b[0m   warnings.warn(\n",
            "\u001b[2m\u001b[36m(launch_and_evaluate pid=15668)\u001b[0m /usr/local/lib/python3.9/dist-packages/sklearn/base.py:432: UserWarning: X has feature names, but LogisticRegression was fitted without feature names\n",
            "\u001b[2m\u001b[36m(launch_and_evaluate pid=15668)\u001b[0m   warnings.warn(\n",
            "\u001b[2m\u001b[36m(launch_and_evaluate pid=15681)\u001b[0m /usr/local/lib/python3.9/dist-packages/sklearn/base.py:432: UserWarning: X has feature names, but LogisticRegression was fitted without feature names\n",
            "\u001b[2m\u001b[36m(launch_and_evaluate pid=15681)\u001b[0m   warnings.warn(\n",
            "\u001b[2m\u001b[36m(launch_and_evaluate pid=15688)\u001b[0m /usr/local/lib/python3.9/dist-packages/sklearn/base.py:432: UserWarning: X has feature names, but LogisticRegression was fitted without feature names\n",
            "\u001b[2m\u001b[36m(launch_and_evaluate pid=15688)\u001b[0m   warnings.warn(\n"
          ]
        },
        {
          "output_type": "stream",
          "name": "stdout",
          "text": [
            "\u001b[2m\u001b[36m(launch_and_evaluate pid=15668)\u001b[0m Cliente: 2 DEFINIDO EL MODELO Y DATASET\n",
            "\u001b[2m\u001b[36m(launch_and_evaluate pid=15668)\u001b[0m [Client 2] EVALUATE\n",
            "\u001b[2m\u001b[36m(launch_and_evaluate pid=15681)\u001b[0m Cliente: 0 DEFINIDO EL MODELO Y DATASET\n",
            "\u001b[2m\u001b[36m(launch_and_evaluate pid=15681)\u001b[0m [Client 0] EVALUATE\n",
            "\u001b[2m\u001b[36m(launch_and_evaluate pid=15688)\u001b[0m Cliente: 1 DEFINIDO EL MODELO Y DATASET\n",
            "\u001b[2m\u001b[36m(launch_and_evaluate pid=15688)\u001b[0m [Client 1] EVALUATE\n"
          ]
        },
        {
          "output_type": "stream",
          "name": "stderr",
          "text": [
            "DEBUG flwr 2023-04-16 09:10:58,147 | server.py:179 | evaluate_round 3 received 3 results and 0 failures\n",
            "DEBUG:flwr:evaluate_round 3 received 3 results and 0 failures\n",
            "DEBUG flwr 2023-04-16 09:10:58,151 | server.py:215 | fit_round 4: strategy sampled 3 clients (out of 3)\n",
            "DEBUG:flwr:fit_round 4: strategy sampled 3 clients (out of 3)\n"
          ]
        },
        {
          "output_type": "stream",
          "name": "stdout",
          "text": [
            "\u001b[2m\u001b[36m(launch_and_evaluate pid=15681)\u001b[0m Loss: 0.6931471805599452, Accuracy: 0.5563383037845877 de 0\n",
            "\u001b[2m\u001b[36m(launch_and_evaluate pid=15688)\u001b[0m Loss: 0.6931471805599453, Accuracy: 0.15713243721996456 de 1\n",
            "\u001b[2m\u001b[36m(launch_and_evaluate pid=15668)\u001b[0m Loss: 0.6931471805599453, Accuracy: 0.7553509541729262 de 2\n",
            "\u001b[2m\u001b[36m(launch_and_fit pid=15668)\u001b[0m Cliente: 1 DEFINIDO EL MODELO Y DATASET\n",
            "\u001b[2m\u001b[36m(launch_and_fit pid=15668)\u001b[0m [Client 1] FIT\n",
            "\u001b[2m\u001b[36m(launch_and_fit pid=15681)\u001b[0m Cliente: 0 DEFINIDO EL MODELO Y DATASET\n",
            "\u001b[2m\u001b[36m(launch_and_fit pid=15681)\u001b[0m [Client 0] FIT\n",
            "\u001b[2m\u001b[36m(launch_and_fit pid=15688)\u001b[0m Cliente: 2 DEFINIDO EL MODELO Y DATASET\n",
            "\u001b[2m\u001b[36m(launch_and_fit pid=15688)\u001b[0m [Client 2] FIT\n"
          ]
        },
        {
          "output_type": "stream",
          "name": "stderr",
          "text": [
            "DEBUG flwr 2023-04-16 09:11:17,217 | server.py:229 | fit_round 4 received 3 results and 0 failures\n",
            "DEBUG:flwr:fit_round 4 received 3 results and 0 failures\n",
            "DEBUG flwr 2023-04-16 09:11:17,230 | server.py:165 | evaluate_round 4: strategy sampled 3 clients (out of 3)\n",
            "DEBUG:flwr:evaluate_round 4: strategy sampled 3 clients (out of 3)\n"
          ]
        },
        {
          "output_type": "stream",
          "name": "stdout",
          "text": [
            "\u001b[2m\u001b[36m(launch_and_evaluate pid=15668)\u001b[0m Cliente: 1 DEFINIDO EL MODELO Y DATASET\n",
            "\u001b[2m\u001b[36m(launch_and_evaluate pid=15681)\u001b[0m Cliente: 2 DEFINIDO EL MODELO Y DATASET\n",
            "\u001b[2m\u001b[36m(launch_and_evaluate pid=15688)\u001b[0m Cliente: 0 DEFINIDO EL MODELO Y DATASET\n",
            "\u001b[2m\u001b[36m(launch_and_evaluate pid=15688)\u001b[0m [Client 0] EVALUATE\n",
            "\u001b[2m\u001b[36m(launch_and_evaluate pid=15668)\u001b[0m [Client 1] EVALUATE\n",
            "\u001b[2m\u001b[36m(launch_and_evaluate pid=15681)\u001b[0m [Client 2] EVALUATE\n",
            "\u001b[2m\u001b[36m(launch_and_evaluate pid=15688)\u001b[0m Loss: 0.6931471805599452, Accuracy: 0.5654964580642636 de 0\n"
          ]
        },
        {
          "output_type": "stream",
          "name": "stderr",
          "text": [
            "\u001b[2m\u001b[36m(launch_and_evaluate pid=15681)\u001b[0m /usr/local/lib/python3.9/dist-packages/sklearn/base.py:432: UserWarning: X has feature names, but LogisticRegression was fitted without feature names\n",
            "\u001b[2m\u001b[36m(launch_and_evaluate pid=15681)\u001b[0m   warnings.warn(\n",
            "\u001b[2m\u001b[36m(launch_and_evaluate pid=15688)\u001b[0m /usr/local/lib/python3.9/dist-packages/sklearn/base.py:432: UserWarning: X has feature names, but LogisticRegression was fitted without feature names\n",
            "\u001b[2m\u001b[36m(launch_and_evaluate pid=15688)\u001b[0m   warnings.warn(\n",
            "\u001b[2m\u001b[36m(launch_and_evaluate pid=15668)\u001b[0m /usr/local/lib/python3.9/dist-packages/sklearn/base.py:432: UserWarning: X has feature names, but LogisticRegression was fitted without feature names\n",
            "\u001b[2m\u001b[36m(launch_and_evaluate pid=15668)\u001b[0m   warnings.warn(\n",
            "\u001b[2m\u001b[36m(launch_and_evaluate pid=15688)\u001b[0m /usr/local/lib/python3.9/dist-packages/sklearn/base.py:432: UserWarning: X has feature names, but LogisticRegression was fitted without feature names\n",
            "\u001b[2m\u001b[36m(launch_and_evaluate pid=15688)\u001b[0m   warnings.warn(\n",
            "\u001b[2m\u001b[36m(launch_and_evaluate pid=15668)\u001b[0m /usr/local/lib/python3.9/dist-packages/sklearn/base.py:432: UserWarning: X has feature names, but LogisticRegression was fitted without feature names\n",
            "\u001b[2m\u001b[36m(launch_and_evaluate pid=15668)\u001b[0m   warnings.warn(\n",
            "DEBUG flwr 2023-04-16 09:11:17,871 | server.py:179 | evaluate_round 4 received 3 results and 0 failures\n",
            "DEBUG:flwr:evaluate_round 4 received 3 results and 0 failures\n",
            "DEBUG flwr 2023-04-16 09:11:17,877 | server.py:215 | fit_round 5: strategy sampled 3 clients (out of 3)\n",
            "DEBUG:flwr:fit_round 5: strategy sampled 3 clients (out of 3)\n",
            "\u001b[2m\u001b[36m(launch_and_evaluate pid=15681)\u001b[0m /usr/local/lib/python3.9/dist-packages/sklearn/base.py:432: UserWarning: X has feature names, but LogisticRegression was fitted without feature names\n",
            "\u001b[2m\u001b[36m(launch_and_evaluate pid=15681)\u001b[0m   warnings.warn(\n"
          ]
        },
        {
          "output_type": "stream",
          "name": "stdout",
          "text": [
            "\u001b[2m\u001b[36m(launch_and_evaluate pid=15668)\u001b[0m Loss: 0.6931471805599453, Accuracy: 0.14228404709805148 de 1\n",
            "\u001b[2m\u001b[36m(launch_and_evaluate pid=15681)\u001b[0m Loss: 0.6931471805599453, Accuracy: 0.7531793369130312 de 2\n",
            "\u001b[2m\u001b[36m(launch_and_fit pid=15668)\u001b[0m Cliente: 0 DEFINIDO EL MODELO Y DATASET\n",
            "\u001b[2m\u001b[36m(launch_and_fit pid=15668)\u001b[0m [Client 0] FIT\n",
            "\u001b[2m\u001b[36m(launch_and_fit pid=15681)\u001b[0m Cliente: 1 DEFINIDO EL MODELO Y DATASET\n",
            "\u001b[2m\u001b[36m(launch_and_fit pid=15681)\u001b[0m [Client 1] FIT\n",
            "\u001b[2m\u001b[36m(launch_and_fit pid=15688)\u001b[0m Cliente: 2 DEFINIDO EL MODELO Y DATASET\n",
            "\u001b[2m\u001b[36m(launch_and_fit pid=15688)\u001b[0m [Client 2] FIT\n"
          ]
        },
        {
          "output_type": "stream",
          "name": "stderr",
          "text": [
            "DEBUG flwr 2023-04-16 09:11:37,201 | server.py:229 | fit_round 5 received 3 results and 0 failures\n",
            "DEBUG:flwr:fit_round 5 received 3 results and 0 failures\n",
            "DEBUG flwr 2023-04-16 09:11:37,212 | server.py:165 | evaluate_round 5: strategy sampled 3 clients (out of 3)\n",
            "DEBUG:flwr:evaluate_round 5: strategy sampled 3 clients (out of 3)\n"
          ]
        },
        {
          "output_type": "stream",
          "name": "stdout",
          "text": [
            "\u001b[2m\u001b[36m(launch_and_evaluate pid=15688)\u001b[0m Cliente: 2 DEFINIDO EL MODELO Y DATASET\n",
            "\u001b[2m\u001b[36m(launch_and_evaluate pid=15688)\u001b[0m [Client 2] EVALUATE\n",
            "\u001b[2m\u001b[36m(launch_and_evaluate pid=15688)\u001b[0m Loss: 0.6931471805599453, Accuracy: 0.755261709627999 de 2\n"
          ]
        },
        {
          "output_type": "stream",
          "name": "stderr",
          "text": [
            "\u001b[2m\u001b[36m(launch_and_evaluate pid=15688)\u001b[0m /usr/local/lib/python3.9/dist-packages/sklearn/base.py:432: UserWarning: X has feature names, but LogisticRegression was fitted without feature names\n",
            "\u001b[2m\u001b[36m(launch_and_evaluate pid=15688)\u001b[0m   warnings.warn(\n",
            "\u001b[2m\u001b[36m(launch_and_evaluate pid=15688)\u001b[0m /usr/local/lib/python3.9/dist-packages/sklearn/base.py:432: UserWarning: X has feature names, but LogisticRegression was fitted without feature names\n",
            "\u001b[2m\u001b[36m(launch_and_evaluate pid=15688)\u001b[0m   warnings.warn(\n",
            "\u001b[2m\u001b[36m(launch_and_evaluate pid=15668)\u001b[0m /usr/local/lib/python3.9/dist-packages/sklearn/base.py:432: UserWarning: X has feature names, but LogisticRegression was fitted without feature names\n",
            "\u001b[2m\u001b[36m(launch_and_evaluate pid=15668)\u001b[0m   warnings.warn(\n",
            "\u001b[2m\u001b[36m(launch_and_evaluate pid=15688)\u001b[0m /usr/local/lib/python3.9/dist-packages/sklearn/base.py:432: UserWarning: X has feature names, but LogisticRegression was fitted without feature names\n",
            "\u001b[2m\u001b[36m(launch_and_evaluate pid=15688)\u001b[0m   warnings.warn(\n",
            "\u001b[2m\u001b[36m(launch_and_evaluate pid=15668)\u001b[0m /usr/local/lib/python3.9/dist-packages/sklearn/base.py:432: UserWarning: X has feature names, but LogisticRegression was fitted without feature names\n",
            "\u001b[2m\u001b[36m(launch_and_evaluate pid=15668)\u001b[0m   warnings.warn(\n",
            "\u001b[2m\u001b[36m(launch_and_evaluate pid=15688)\u001b[0m /usr/local/lib/python3.9/dist-packages/sklearn/base.py:432: UserWarning: X has feature names, but LogisticRegression was fitted without feature names\n",
            "\u001b[2m\u001b[36m(launch_and_evaluate pid=15688)\u001b[0m   warnings.warn(\n",
            "DEBUG flwr 2023-04-16 09:11:37,970 | server.py:179 | evaluate_round 5 received 3 results and 0 failures\n",
            "DEBUG:flwr:evaluate_round 5 received 3 results and 0 failures\n",
            "INFO flwr 2023-04-16 09:11:37,973 | server.py:144 | FL finished in 97.06769072399993\n",
            "INFO:flwr:FL finished in 97.06769072399993\n",
            "INFO flwr 2023-04-16 09:11:37,977 | app.py:202 | app_fit: losses_distributed [(1, 0.6931471805599453), (2, 0.6931471805599453), (3, 0.6931471805599453), (4, 0.6931471805599453), (5, 0.6931471805599453)]\n"
          ]
        },
        {
          "output_type": "stream",
          "name": "stdout",
          "text": [
            "\u001b[2m\u001b[36m(launch_and_evaluate pid=15668)\u001b[0m Cliente: 1 DEFINIDO EL MODELO Y DATASET\n",
            "\u001b[2m\u001b[36m(launch_and_evaluate pid=15668)\u001b[0m [Client 1] EVALUATE\n",
            "\u001b[2m\u001b[36m(launch_and_evaluate pid=15688)\u001b[0m Cliente: 0 DEFINIDO EL MODELO Y DATASET\n",
            "\u001b[2m\u001b[36m(launch_and_evaluate pid=15688)\u001b[0m [Client 0] EVALUATE\n"
          ]
        },
        {
          "output_type": "stream",
          "name": "stderr",
          "text": [
            "INFO:flwr:app_fit: losses_distributed [(1, 0.6931471805599453), (2, 0.6931471805599453), (3, 0.6931471805599453), (4, 0.6931471805599453), (5, 0.6931471805599453)]\n",
            "INFO flwr 2023-04-16 09:11:37,991 | app.py:203 | app_fit: metrics_distributed {}\n",
            "INFO:flwr:app_fit: metrics_distributed {}\n",
            "INFO flwr 2023-04-16 09:11:38,000 | app.py:204 | app_fit: losses_centralized []\n",
            "INFO:flwr:app_fit: losses_centralized []\n",
            "INFO flwr 2023-04-16 09:11:38,010 | app.py:205 | app_fit: metrics_centralized {}\n",
            "INFO:flwr:app_fit: metrics_centralized {}\n"
          ]
        },
        {
          "output_type": "stream",
          "name": "stdout",
          "text": [
            "\u001b[2m\u001b[36m(launch_and_evaluate pid=15668)\u001b[0m Loss: 0.6931471805599453, Accuracy: 0.14280504324268 de 1\n",
            "\u001b[2m\u001b[36m(launch_and_evaluate pid=15688)\u001b[0m Loss: 0.6931471805599452, Accuracy: 0.4685139524871825 de 0\n",
            "Training time: 102.05808329582214 seconds\n"
          ]
        }
      ]
    },
    {
      "cell_type": "markdown",
      "source": [
        "## Check accuracy of FL\n"
      ],
      "metadata": {
        "id": "sQHBUiGeQcAs"
      }
    },
    {
      "cell_type": "code",
      "source": [
        "# def plot_metric_from_history(\n",
        "#     hist: None,\n",
        "#     save_plot_path: None,\n",
        "#     metric_type: None,\n",
        "# ) -> None:\n",
        "#     \"\"\"Function to plot from Flower server History.\n",
        "#     Parameters\n",
        "#     ----------\n",
        "#     hist : History\n",
        "#         Object containing evaluation for all rounds.\n",
        "#     save_plot_path : Path\n",
        "#         Folder to save the plot to.\n",
        "#     metric_type : Literal[\"centralized\", \"distributed\"]\n",
        "#         Type of metric to plot.\n",
        "#     \"\"\"\n",
        "#     metric_dict = (\n",
        "#         hist.metrics_centralized\n",
        "#         if metric_type == \"centralized\"\n",
        "#         else hist.metrics_distributed\n",
        "#     )\n",
        "#     rounds, values = zip(*metric_dict[\"accuracy\"])\n",
        "#     plt.plot(np.asarray(rounds), np.asarray(values), label=\"FedAvg\")\n",
        "#     # plt.savefig(Path(save_plot_path) / Path(f\"{metric_type}_metrics{suffix}.png\"))\n",
        "#     # plt.close()\n",
        "\n",
        "def plot_metric_from_history(\n",
        "    hist: None,\n",
        "    save_plot_path: None,\n",
        "    metric_type: None,\n",
        "    metric: None,\n",
        ") -> None:\n",
        "    \"\"\"Function to plot from Flower server History.\n",
        "    Parameters\n",
        "    ----------\n",
        "    hist : History\n",
        "        Object containing evaluation for all rounds.\n",
        "    save_plot_path : Path\n",
        "        Folder to save the plot to.\n",
        "    metric_type : Literal[\"centralized\", \"distributed\"]\n",
        "        Type of metric to plot.\n",
        "    metric : Literal[\"accuracy\",\"precision\",\"recall\",\"f1score\"]\n",
        "        Metric to plot.\n",
        "    \"\"\"\n",
        "    metric_dict = (\n",
        "        hist.metrics_centralized\n",
        "        if metric_type == \"centralized\"\n",
        "        else hist.metrics_distributed\n",
        "    )\n",
        "    rounds, values = zip(*metric_dict[metric])\n",
        "    # plt.plot(np.asarray(rounds), np.asarray(values), label=\"FedAvg\")\n",
        "    plt.plot(np.asarray(rounds), np.asarray(values), linewidth=5, label='Test')\n",
        "    plt.legend(fontsize=45)\n",
        "    plt.xlabel('Communication round', fontsize=40)\n",
        "    plt.ylabel(metric, fontsize=50)\n",
        "    plt.title(metric, fontsize=60)\n",
        "    plt.xticks(fontsize=30)\n",
        "    plt.yticks(fontsize=30)\n",
        "    # plt.ylim(min(min(min(commun_metrics))) - 0.05, max(max(max(commun_metrics))) + 0.05)\n",
        "    plt.ylim(0, 1)\n",
        "    # plt.savefig(Path(save_plot_path) / Path(f\"{metric_type}_metrics{suffix}.png\"))\n",
        "    # plt.close()"
      ],
      "metadata": {
        "id": "uHqUi1cnQXkg"
      },
      "execution_count": null,
      "outputs": []
    },
    {
      "cell_type": "code",
      "source": [
        "# Define metrics to plot\n",
        "metrics_show = [\"accuracy\",\"precision\",\"recall\",\"f1score\"]\n",
        "\n",
        "# Define dimensions for plot\n",
        "f, axs = plt.subplots(1,len(metrics_show),figsize=(70,15))\n",
        "\n",
        "# Loop over the communication round history and metrics\n",
        "for i in range(len(metrics_show)):\n",
        "  plt.subplot(1, len(metrics_show), i + 1)\n",
        "  plot_metric_from_history(history,\"any\",\"centralized\",metrics_show[i])"
      ],
      "metadata": {
        "id": "fPaXNri54VlA"
      },
      "execution_count": null,
      "outputs": []
    }
  ]
}